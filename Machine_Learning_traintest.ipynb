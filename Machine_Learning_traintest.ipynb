{
 "cells": [
  {
   "cell_type": "code",
   "execution_count": 1,
   "metadata": {},
   "outputs": [],
   "source": [
    "import re\n",
    "import pickle\n",
    "import pandas as pd\n",
    "import numpy as np\n",
    "from numpy import nan"
   ]
  },
  {
   "cell_type": "code",
   "execution_count": 2,
   "metadata": {},
   "outputs": [],
   "source": [
    "import nltk\n",
    "from nltk.corpus import stopwords\n",
    "from nltk.stem import WordNetLemmatizer"
   ]
  },
  {
   "cell_type": "code",
   "execution_count": 3,
   "metadata": {},
   "outputs": [],
   "source": [
    "from sklearn.feature_extraction.text import TfidfVectorizer\n",
    "from sklearn.tree import DecisionTreeClassifier\n",
    "from sklearn.metrics import classification_report, confusion_matrix, accuracy_score,average_precision_score,recall_score\n",
    "from sklearn.model_selection import ShuffleSplit\n",
    "from sklearn.model_selection import train_test_split\n",
    "from sklearn.feature_selection import chi2\n",
    "import matplotlib.pyplot as plt\n",
    "import seaborn as sns\n",
    "from sklearn import model_selection, naive_bayes, svm\n",
    "from sklearn.neighbors import KNeighborsClassifier\n",
    "\n",
    "from sklearn.ensemble import RandomForestRegressor,RandomForestClassifier\n",
    "from sklearn.linear_model import SGDClassifier\n",
    "import matplotlib.pyplot as plt"
   ]
  },
  {
   "cell_type": "code",
   "execution_count": 4,
   "metadata": {},
   "outputs": [],
   "source": [
    "import pandas as pd\n",
    "df= pd.read_csv('Dataset_2738_after_webscraping.csv')  "
   ]
  },
  {
   "cell_type": "code",
   "execution_count": 5,
   "metadata": {},
   "outputs": [],
   "source": [
    "\n",
    "\n",
    "C = (df['Content']).tolist()\n",
    "\n",
    "L = (df['Label']).tolist()"
   ]
  },
  {
   "cell_type": "code",
   "execution_count": 6,
   "metadata": {},
   "outputs": [],
   "source": [
    "#PREPROCESSING\n",
    "def preprocess(col):\n",
    "    col_l = []\n",
    "    for r in col:\n",
    "        #print(r)\n",
    "        try:\n",
    "            a = r.lower() \n",
    "            a = a.replace(\"'s\", \"\")\n",
    "            #a = a.replace([\"\\n\"], \"hjfgjh\")\n",
    "            a = re.sub('[^a-zA-Z0-9 \\n\\.]', '',a)\n",
    "            a = re.sub('[:.\\n\\t]', '',a)\n",
    "            a = re.sub('[?:!.+,]]][]]//;]', '',a) \n",
    "            \n",
    "            col_l.append(a)\n",
    "        except:\n",
    "            #print(\"No header found\")\n",
    "            col_l.append(\"No Header\")\n",
    "            pass\n",
    "\n",
    "    # Downloading punkt and wordnet from NLTK\n",
    "    nltk.download('punkt')\n",
    "    print(\"------------------------------------------------------------\")\n",
    "    nltk.download('wordnet')\n",
    "    \n",
    "    wordnet_lemmatizer = WordNetLemmatizer()\n",
    "    \n",
    "    nltk.download('stopwords')\n",
    "    \n",
    "    lemmatized_text_list = []\n",
    "\n",
    "    for s in col_l:\n",
    "        #print(s)\n",
    "        # Create an empty list containing lemmatized words\n",
    "        lemmatized_list = []\n",
    "\n",
    "        # Save the text and its words into an object\n",
    "        #text = df.loc[row]['Content_Parsed_4']\n",
    "        text_words = s.split(\" \")\n",
    "\n",
    "        # Iterate through every word to lemmatize\n",
    "        for word in text_words:\n",
    "            lemmatized_list.append(wordnet_lemmatizer.lemmatize(word, pos=\"v\"))\n",
    "\n",
    "        # Join the list\n",
    "        lemmatized_text = \" \".join(lemmatized_list)\n",
    "\n",
    "        # Append to the list containing the texts\n",
    "        lemmatized_text_list.append(lemmatized_text)\n",
    "    \n",
    "    new_lemmatized_text_list = []\n",
    "    for x in lemmatized_text_list:\n",
    "        new_lemmatized_text_list.append(\" \".join(x.split())) \n",
    "    \n",
    "    pl = pd.Series(new_lemmatized_text_list)\n",
    "   # pl = pd.Series(col_l)\n",
    "    stop_words = list(stopwords.words('english'))\n",
    "    \n",
    "    for stop_word in stop_words:\n",
    "        regex_stopword = r\"\\b\" + stop_word + r\"\\b\"\n",
    "        #pl = pd.Series(col_l)\n",
    "   \n",
    "        pl = pl.str.replace(regex_stopword, '')\n",
    "        \n",
    "    \n",
    "    return pl.tolist()"
   ]
  },
  {
   "cell_type": "code",
   "execution_count": 7,
   "metadata": {},
   "outputs": [
    {
     "name": "stderr",
     "output_type": "stream",
     "text": [
      "[nltk_data] Downloading package punkt to\n",
      "[nltk_data]     C:\\Users\\Jojy\\AppData\\Roaming\\nltk_data...\n",
      "[nltk_data]   Package punkt is already up-to-date!\n",
      "[nltk_data] Downloading package wordnet to\n",
      "[nltk_data]     C:\\Users\\Jojy\\AppData\\Roaming\\nltk_data...\n",
      "[nltk_data]   Package wordnet is already up-to-date!\n",
      "[nltk_data] Downloading package stopwords to\n",
      "[nltk_data]     C:\\Users\\Jojy\\AppData\\Roaming\\nltk_data...\n",
      "[nltk_data]   Package stopwords is already up-to-date!\n"
     ]
    },
    {
     "name": "stdout",
     "output_type": "stream",
     "text": [
      "------------------------------------------------------------\n"
     ]
    }
   ],
   "source": [
    "con = preprocess(C)\n",
    "#print(con)"
   ]
  },
  {
   "cell_type": "code",
   "execution_count": 8,
   "metadata": {},
   "outputs": [
    {
     "data": {
      "text/plain": [
       "2734"
      ]
     },
     "execution_count": 8,
     "metadata": {},
     "output_type": "execute_result"
    }
   ],
   "source": [
    "len(con)"
   ]
  },
  {
   "cell_type": "code",
   "execution_count": 9,
   "metadata": {},
   "outputs": [
    {
     "data": {
      "text/plain": [
       "['iot-project',\n",
       " 'iot-project',\n",
       " 'iot-project',\n",
       " 'iot-project',\n",
       " 'iot-project',\n",
       " 'iot-project',\n",
       " 'iot-project',\n",
       " 'iot-project',\n",
       " 'iot-project',\n",
       " 'iot-project',\n",
       " 'iot-project',\n",
       " 'iot-project',\n",
       " 'iot-project',\n",
       " 'iot-project',\n",
       " 'iot-project',\n",
       " 'iot-project',\n",
       " 'iot-project',\n",
       " 'iot-project',\n",
       " 'iot-project',\n",
       " 'iot-project',\n",
       " 'iot-project',\n",
       " 'iot-project',\n",
       " 'iot-project',\n",
       " 'iot-project',\n",
       " 'iot-project',\n",
       " 'iot-project',\n",
       " 'iot-project',\n",
       " 'iot-project',\n",
       " 'iot-project',\n",
       " 'iot-project',\n",
       " 'iot-project',\n",
       " 'iot-project',\n",
       " 'iot-project',\n",
       " 'iot-project',\n",
       " 'iot-project',\n",
       " 'iot-project',\n",
       " 'iot-project',\n",
       " 'iot-project',\n",
       " 'iot-project',\n",
       " 'iot-project',\n",
       " 'iot-project',\n",
       " 'iot-project',\n",
       " 'iot-project',\n",
       " 'iot-project',\n",
       " 'iot-project',\n",
       " 'iot-project',\n",
       " 'iot-project',\n",
       " 'iot-project',\n",
       " 'iot-project',\n",
       " 'iot-project',\n",
       " 'iot-project',\n",
       " 'iot-project',\n",
       " 'iot-project',\n",
       " 'iot-project',\n",
       " 'iot-project',\n",
       " 'iot-project',\n",
       " 'iot-project',\n",
       " 'iot-project',\n",
       " 'iot-project',\n",
       " 'iot-project',\n",
       " 'iot-project',\n",
       " 'iot-project',\n",
       " 'iot-project',\n",
       " 'iot-project',\n",
       " 'iot-project',\n",
       " 'iot-project',\n",
       " 'iot-project',\n",
       " 'iot-project',\n",
       " 'iot-project',\n",
       " 'iot-project',\n",
       " 'iot-project',\n",
       " 'iot-project',\n",
       " 'iot-project',\n",
       " 'iot-project',\n",
       " 'iot-project',\n",
       " 'iot-project',\n",
       " 'iot-project',\n",
       " 'iot-project',\n",
       " 'iot-project',\n",
       " 'iot-project',\n",
       " 'iot-project',\n",
       " 'iot-project',\n",
       " 'iot-project',\n",
       " 'iot-project',\n",
       " 'iot-project',\n",
       " 'iot-project',\n",
       " 'iot-project',\n",
       " 'iot-project',\n",
       " 'iot-project',\n",
       " 'iot-project',\n",
       " 'iot-project',\n",
       " 'iot-project',\n",
       " 'iot-project',\n",
       " 'iot-project',\n",
       " 'iot-project',\n",
       " 'iot-project',\n",
       " 'iot-project',\n",
       " 'iot-project',\n",
       " 'iot-project',\n",
       " 'iot-project',\n",
       " 'iot-project',\n",
       " 'iot-project',\n",
       " 'iot-project',\n",
       " 'iot-project',\n",
       " 'iot-project',\n",
       " 'iot-project',\n",
       " 'iot-project',\n",
       " 'iot-project',\n",
       " 'iot-project',\n",
       " 'iot-project',\n",
       " 'iot-project',\n",
       " 'iot-project',\n",
       " 'iot-project',\n",
       " 'iot-project',\n",
       " 'iot-project',\n",
       " 'iot-project',\n",
       " 'iot-project',\n",
       " 'iot-project',\n",
       " 'iot-project',\n",
       " 'iot-project',\n",
       " 'iot-project',\n",
       " 'iot-project',\n",
       " 'iot-project',\n",
       " 'iot-project',\n",
       " 'iot-project',\n",
       " 'iot-project',\n",
       " 'iot-project',\n",
       " 'iot-project',\n",
       " 'iot-project',\n",
       " 'iot-project',\n",
       " 'iot-project',\n",
       " 'iot-project',\n",
       " 'iot-project',\n",
       " 'iot-project',\n",
       " 'iot-project',\n",
       " 'iot-project',\n",
       " 'iot-project',\n",
       " 'iot-project',\n",
       " 'iot-project',\n",
       " 'iot-project',\n",
       " 'iot-project',\n",
       " 'iot-project',\n",
       " 'iot-project',\n",
       " 'iot-project',\n",
       " 'iot-project',\n",
       " 'iot-project',\n",
       " 'iot-project',\n",
       " 'iot-project',\n",
       " 'iot-project',\n",
       " 'iot-project',\n",
       " 'iot-project',\n",
       " 'iot-project',\n",
       " 'iot-project',\n",
       " 'iot-project',\n",
       " 'iot-project',\n",
       " 'iot-project',\n",
       " 'iot-project',\n",
       " 'iot-project',\n",
       " 'iot-project',\n",
       " 'iot-project',\n",
       " 'iot-project',\n",
       " 'iot-project',\n",
       " 'iot-project',\n",
       " 'iot-project',\n",
       " 'iot-project',\n",
       " 'iot-project',\n",
       " 'iot-project',\n",
       " 'iot-project',\n",
       " 'iot-project',\n",
       " 'iot-project',\n",
       " 'iot-project',\n",
       " 'iot-project',\n",
       " 'iot-project',\n",
       " 'iot-project',\n",
       " 'iot-project',\n",
       " 'iot-project',\n",
       " 'iot-project',\n",
       " 'iot-project',\n",
       " 'iot-project',\n",
       " 'iot-project',\n",
       " 'iot-project',\n",
       " 'iot-project',\n",
       " 'iot-project',\n",
       " 'iot-project',\n",
       " 'iot-project',\n",
       " 'iot-project',\n",
       " 'iot-project',\n",
       " 'iot-project',\n",
       " 'iot-project',\n",
       " 'iot-project',\n",
       " 'iot-project',\n",
       " 'iot-project',\n",
       " 'iot-project',\n",
       " 'iot-project',\n",
       " 'iot-project',\n",
       " 'iot-project',\n",
       " 'iot-project',\n",
       " 'iot-project',\n",
       " 'non-iot-project',\n",
       " 'non-iot-project',\n",
       " 'non-iot-project',\n",
       " 'non-iot-project',\n",
       " 'non-iot-project',\n",
       " 'non-iot-project',\n",
       " 'non-iot-project',\n",
       " 'non-iot-project',\n",
       " 'non-iot-project',\n",
       " 'non-iot-project',\n",
       " 'non-iot-project',\n",
       " 'non-iot-project',\n",
       " 'non-iot-project',\n",
       " 'non-iot-project',\n",
       " 'non-iot-project',\n",
       " 'non-iot-project',\n",
       " 'non-iot-project',\n",
       " 'non-iot-project',\n",
       " 'non-iot-project',\n",
       " 'non-iot-project',\n",
       " 'non-iot-project',\n",
       " 'non-iot-project',\n",
       " 'non-iot-project',\n",
       " 'non-iot-project',\n",
       " 'non-iot-project',\n",
       " 'non-iot-project',\n",
       " 'non-iot-project',\n",
       " 'non-iot-project',\n",
       " 'non-iot-project',\n",
       " 'non-iot-project',\n",
       " 'non-iot-project',\n",
       " 'non-iot-project',\n",
       " 'non-iot-project',\n",
       " 'non-iot-project',\n",
       " 'non-iot-project',\n",
       " 'non-iot-project',\n",
       " 'non-iot-project',\n",
       " 'non-iot-project',\n",
       " 'non-iot-project',\n",
       " 'non-iot-project',\n",
       " 'non-iot-project',\n",
       " 'non-iot-project',\n",
       " 'non-iot-project',\n",
       " 'non-iot-project',\n",
       " 'non-iot-project',\n",
       " 'non-iot-project',\n",
       " 'non-iot-project',\n",
       " 'non-iot-project',\n",
       " 'non-iot-project',\n",
       " 'non-iot-project',\n",
       " 'non-iot-project',\n",
       " 'non-iot-project',\n",
       " 'non-iot-project',\n",
       " 'non-iot-project',\n",
       " 'non-iot-project',\n",
       " 'non-iot-project',\n",
       " 'non-iot-project',\n",
       " 'non-iot-project',\n",
       " 'non-iot-project',\n",
       " 'non-iot-project',\n",
       " 'non-iot-project',\n",
       " 'non-iot-project',\n",
       " 'non-iot-project',\n",
       " 'non-iot-project',\n",
       " 'non-iot-project',\n",
       " 'non-iot-project',\n",
       " 'non-iot-project',\n",
       " 'non-iot-project',\n",
       " 'non-iot-project',\n",
       " 'non-iot-project',\n",
       " 'non-iot-project',\n",
       " 'non-iot-project',\n",
       " 'non-iot-project',\n",
       " 'non-iot-project',\n",
       " 'non-iot-project',\n",
       " 'non-iot-project',\n",
       " 'non-iot-project',\n",
       " 'non-iot-project',\n",
       " 'non-iot-project',\n",
       " 'non-iot-project',\n",
       " 'non-iot-project',\n",
       " 'non-iot-project',\n",
       " 'non-iot-project',\n",
       " 'non-iot-project',\n",
       " 'non-iot-project',\n",
       " 'non-iot-project',\n",
       " 'non-iot-project',\n",
       " 'non-iot-project',\n",
       " 'non-iot-project',\n",
       " 'non-iot-project',\n",
       " 'non-iot-project',\n",
       " 'non-iot-project',\n",
       " 'non-iot-project',\n",
       " 'non-iot-project',\n",
       " 'non-iot-project',\n",
       " 'non-iot-project',\n",
       " 'non-iot-project',\n",
       " 'non-iot-project',\n",
       " 'non-iot-project',\n",
       " 'non-iot-project',\n",
       " 'non-iot-project',\n",
       " 'non-iot-project',\n",
       " 'non-iot-project',\n",
       " 'non-iot-project',\n",
       " 'non-iot-project',\n",
       " 'non-iot-project',\n",
       " 'non-iot-project',\n",
       " 'non-iot-project',\n",
       " 'non-iot-project',\n",
       " 'non-iot-project',\n",
       " 'non-iot-project',\n",
       " 'non-iot-project',\n",
       " 'iot-project',\n",
       " 'iot-project',\n",
       " 'iot-project',\n",
       " 'iot-project',\n",
       " 'iot-project',\n",
       " 'iot-project',\n",
       " 'iot-project',\n",
       " 'iot-project',\n",
       " 'iot-project',\n",
       " 'iot-project',\n",
       " 'iot-project',\n",
       " 'iot-project',\n",
       " 'iot-project',\n",
       " 'iot-project',\n",
       " 'iot-project',\n",
       " 'iot-project',\n",
       " 'iot-project',\n",
       " 'iot-project',\n",
       " 'iot-project',\n",
       " 'iot-project',\n",
       " 'iot-project',\n",
       " 'iot-project',\n",
       " 'iot-project',\n",
       " 'iot-project',\n",
       " 'iot-project',\n",
       " 'iot-project',\n",
       " 'iot-project',\n",
       " 'iot-project',\n",
       " 'iot-project',\n",
       " 'iot-project',\n",
       " 'iot-project',\n",
       " 'iot-project',\n",
       " 'iot-project',\n",
       " 'iot-project',\n",
       " 'iot-project',\n",
       " 'iot-project',\n",
       " 'iot-project',\n",
       " 'iot-project',\n",
       " 'iot-project',\n",
       " 'iot-project',\n",
       " 'iot-project',\n",
       " 'iot-project',\n",
       " 'iot-project',\n",
       " 'iot-project',\n",
       " 'iot-project',\n",
       " 'iot-project',\n",
       " 'iot-project',\n",
       " 'iot-project',\n",
       " 'iot-project',\n",
       " 'iot-project',\n",
       " 'iot-project',\n",
       " 'iot-project',\n",
       " 'iot-project',\n",
       " 'iot-project',\n",
       " 'iot-project',\n",
       " 'iot-project',\n",
       " 'iot-project',\n",
       " 'iot-project',\n",
       " 'iot-project',\n",
       " 'iot-project',\n",
       " 'iot-project',\n",
       " 'iot-project',\n",
       " 'iot-project',\n",
       " 'iot-project',\n",
       " 'iot-project',\n",
       " 'iot-project',\n",
       " 'iot-project',\n",
       " 'iot-project',\n",
       " 'iot-project',\n",
       " 'iot-project',\n",
       " 'iot-project',\n",
       " 'iot-project',\n",
       " 'iot-project',\n",
       " 'iot-project',\n",
       " 'iot-project',\n",
       " 'iot-project',\n",
       " 'iot-project',\n",
       " 'iot-project',\n",
       " 'iot-project',\n",
       " 'iot-project',\n",
       " 'iot-project',\n",
       " 'iot-project',\n",
       " 'iot-project',\n",
       " 'iot-project',\n",
       " 'iot-project',\n",
       " 'iot-project',\n",
       " 'iot-project',\n",
       " 'iot-project',\n",
       " 'iot-project',\n",
       " 'iot-project',\n",
       " 'iot-project',\n",
       " 'iot-project',\n",
       " 'iot-project',\n",
       " 'iot-project',\n",
       " 'iot-project',\n",
       " 'iot-project',\n",
       " 'iot-project',\n",
       " 'iot-project',\n",
       " 'iot-project',\n",
       " 'iot-project',\n",
       " 'iot-project',\n",
       " 'iot-project',\n",
       " 'iot-project',\n",
       " 'iot-project',\n",
       " 'iot-project',\n",
       " 'iot-project',\n",
       " 'iot-project',\n",
       " 'iot-project',\n",
       " 'iot-project',\n",
       " 'iot-project',\n",
       " 'iot-project',\n",
       " 'iot-project',\n",
       " 'iot-project',\n",
       " 'iot-project',\n",
       " 'iot-project',\n",
       " 'iot-project',\n",
       " 'iot-project',\n",
       " 'iot-project',\n",
       " 'iot-project',\n",
       " 'iot-project',\n",
       " 'iot-project',\n",
       " 'iot-project',\n",
       " 'iot-project',\n",
       " 'iot-project',\n",
       " 'iot-project',\n",
       " 'iot-project',\n",
       " 'iot-project',\n",
       " 'iot-project',\n",
       " 'iot-project',\n",
       " 'iot-project',\n",
       " 'iot-project',\n",
       " 'iot-project',\n",
       " 'iot-project',\n",
       " 'iot-project',\n",
       " 'iot-project',\n",
       " 'iot-project',\n",
       " 'iot-project',\n",
       " 'iot-project',\n",
       " 'iot-project',\n",
       " 'iot-project',\n",
       " 'iot-project',\n",
       " 'iot-project',\n",
       " 'iot-project',\n",
       " 'iot-project',\n",
       " 'iot-project',\n",
       " 'iot-project',\n",
       " 'iot-project',\n",
       " 'iot-project',\n",
       " 'iot-project',\n",
       " 'iot-project',\n",
       " 'iot-project',\n",
       " 'iot-project',\n",
       " 'iot-project',\n",
       " 'iot-project',\n",
       " 'iot-project',\n",
       " 'iot-project',\n",
       " 'iot-project',\n",
       " 'iot-project',\n",
       " 'iot-project',\n",
       " 'iot-project',\n",
       " 'iot-project',\n",
       " 'iot-project',\n",
       " 'iot-project',\n",
       " 'iot-project',\n",
       " 'iot-project',\n",
       " 'iot-project',\n",
       " 'iot-project',\n",
       " 'iot-project',\n",
       " 'iot-project',\n",
       " 'iot-project',\n",
       " 'iot-project',\n",
       " 'iot-project',\n",
       " 'iot-project',\n",
       " 'iot-project',\n",
       " 'iot-project',\n",
       " 'iot-project',\n",
       " 'iot-project',\n",
       " 'iot-project',\n",
       " 'iot-project',\n",
       " 'iot-project',\n",
       " 'iot-project',\n",
       " 'iot-project',\n",
       " 'iot-project',\n",
       " 'iot-project',\n",
       " 'iot-project',\n",
       " 'iot-project',\n",
       " 'iot-project',\n",
       " 'iot-project',\n",
       " 'iot-project',\n",
       " 'iot-project',\n",
       " 'iot-project',\n",
       " 'iot-project',\n",
       " 'iot-project',\n",
       " 'iot-project',\n",
       " 'iot-project',\n",
       " 'iot-project',\n",
       " 'iot-project',\n",
       " 'iot-project',\n",
       " 'iot-project',\n",
       " 'iot-project',\n",
       " 'iot-project',\n",
       " 'iot-project',\n",
       " 'iot-project',\n",
       " 'iot-project',\n",
       " 'iot-project',\n",
       " 'iot-project',\n",
       " 'iot-project',\n",
       " 'iot-project',\n",
       " 'iot-project',\n",
       " 'iot-project',\n",
       " 'iot-project',\n",
       " 'iot-project',\n",
       " 'iot-project',\n",
       " 'iot-project',\n",
       " 'iot-project',\n",
       " 'iot-project',\n",
       " 'iot-project',\n",
       " 'iot-project',\n",
       " 'iot-project',\n",
       " 'iot-project',\n",
       " 'iot-project',\n",
       " 'iot-project',\n",
       " 'iot-project',\n",
       " 'iot-project',\n",
       " 'iot-project',\n",
       " 'iot-project',\n",
       " 'iot-project',\n",
       " 'iot-project',\n",
       " 'iot-project',\n",
       " 'iot-project',\n",
       " 'iot-project',\n",
       " 'iot-project',\n",
       " 'iot-project',\n",
       " 'iot-project',\n",
       " 'iot-project',\n",
       " 'iot-project',\n",
       " 'iot-project',\n",
       " 'iot-project',\n",
       " 'iot-project',\n",
       " 'iot-project',\n",
       " 'iot-project',\n",
       " 'iot-project',\n",
       " 'iot-project',\n",
       " 'iot-project',\n",
       " 'iot-project',\n",
       " 'iot-project',\n",
       " 'iot-project',\n",
       " 'iot-project',\n",
       " 'iot-project',\n",
       " 'iot-project',\n",
       " 'iot-project',\n",
       " 'iot-project',\n",
       " 'iot-project',\n",
       " 'iot-project',\n",
       " 'iot-project',\n",
       " 'iot-project',\n",
       " 'iot-project',\n",
       " 'iot-project',\n",
       " 'iot-project',\n",
       " 'iot-project',\n",
       " 'iot-project',\n",
       " 'iot-project',\n",
       " 'iot-project',\n",
       " 'iot-project',\n",
       " 'iot-project',\n",
       " 'iot-project',\n",
       " 'iot-project',\n",
       " 'iot-project',\n",
       " 'iot-project',\n",
       " 'iot-project',\n",
       " 'iot-project',\n",
       " 'iot-project',\n",
       " 'iot-project',\n",
       " 'iot-project',\n",
       " 'iot-project',\n",
       " 'iot-project',\n",
       " 'iot-project',\n",
       " 'iot-project',\n",
       " 'iot-project',\n",
       " 'iot-project',\n",
       " 'iot-project',\n",
       " 'iot-project',\n",
       " 'iot-project',\n",
       " 'iot-project',\n",
       " 'iot-project',\n",
       " 'iot-project',\n",
       " 'iot-project',\n",
       " 'iot-project',\n",
       " 'iot-project',\n",
       " 'iot-project',\n",
       " 'iot-project',\n",
       " 'iot-project',\n",
       " 'iot-project',\n",
       " 'iot-project',\n",
       " 'iot-project',\n",
       " 'iot-project',\n",
       " 'iot-project',\n",
       " 'iot-project',\n",
       " 'iot-project',\n",
       " 'iot-project',\n",
       " 'iot-project',\n",
       " 'iot-project',\n",
       " 'iot-project',\n",
       " 'iot-project',\n",
       " 'iot-project',\n",
       " 'iot-project',\n",
       " 'iot-project',\n",
       " 'iot-project',\n",
       " 'iot-project',\n",
       " 'iot-project',\n",
       " 'iot-project',\n",
       " 'iot-project',\n",
       " 'iot-project',\n",
       " 'iot-project',\n",
       " 'iot-project',\n",
       " 'iot-project',\n",
       " 'iot-project',\n",
       " 'iot-project',\n",
       " 'iot-project',\n",
       " 'iot-project',\n",
       " 'iot-project',\n",
       " 'iot-project',\n",
       " 'iot-project',\n",
       " 'iot-project',\n",
       " 'iot-project',\n",
       " 'iot-project',\n",
       " 'iot-project',\n",
       " 'iot-project',\n",
       " 'iot-project',\n",
       " 'iot-project',\n",
       " 'iot-project',\n",
       " 'iot-project',\n",
       " 'iot-project',\n",
       " 'iot-project',\n",
       " 'iot-project',\n",
       " 'iot-project',\n",
       " 'iot-project',\n",
       " 'iot-project',\n",
       " 'iot-project',\n",
       " 'iot-project',\n",
       " 'iot-project',\n",
       " 'iot-project',\n",
       " 'iot-project',\n",
       " 'iot-project',\n",
       " 'iot-project',\n",
       " 'iot-project',\n",
       " 'iot-project',\n",
       " 'iot-project',\n",
       " 'iot-project',\n",
       " 'iot-project',\n",
       " 'iot-project',\n",
       " 'iot-project',\n",
       " 'iot-project',\n",
       " 'iot-project',\n",
       " 'iot-project',\n",
       " 'non-iot-project',\n",
       " 'non-iot-project',\n",
       " 'non-iot-project',\n",
       " 'non-iot-project',\n",
       " 'non-iot-project',\n",
       " 'non-iot-project',\n",
       " 'non-iot-project',\n",
       " 'non-iot-project',\n",
       " 'non-iot-project',\n",
       " 'non-iot-project',\n",
       " 'non-iot-project',\n",
       " 'non-iot-project',\n",
       " 'non-iot-project',\n",
       " 'non-iot-project',\n",
       " 'non-iot-project',\n",
       " 'iot-project',\n",
       " 'iot-project',\n",
       " 'iot-project',\n",
       " 'iot-project',\n",
       " 'iot-project',\n",
       " 'iot-project',\n",
       " 'iot-project',\n",
       " 'iot-project',\n",
       " 'iot-project',\n",
       " 'iot-project',\n",
       " 'iot-project',\n",
       " 'iot-project',\n",
       " 'iot-project',\n",
       " 'iot-project',\n",
       " 'iot-project',\n",
       " 'iot-project',\n",
       " 'iot-project',\n",
       " 'iot-project',\n",
       " 'iot-project',\n",
       " 'iot-project',\n",
       " 'iot-project',\n",
       " 'iot-project',\n",
       " 'iot-project',\n",
       " 'iot-project',\n",
       " 'iot-project',\n",
       " 'iot-project',\n",
       " 'iot-project',\n",
       " 'iot-project',\n",
       " 'iot-project',\n",
       " 'iot-project',\n",
       " 'iot-project',\n",
       " 'iot-project',\n",
       " 'iot-project',\n",
       " 'iot-project',\n",
       " 'iot-project',\n",
       " 'iot-project',\n",
       " 'iot-project',\n",
       " 'iot-project',\n",
       " 'iot-project',\n",
       " 'iot-project',\n",
       " 'iot-project',\n",
       " 'iot-project',\n",
       " 'iot-project',\n",
       " 'iot-project',\n",
       " 'iot-project',\n",
       " 'iot-project',\n",
       " 'iot-project',\n",
       " 'iot-project',\n",
       " 'iot-project',\n",
       " 'iot-project',\n",
       " 'iot-project',\n",
       " 'iot-project',\n",
       " 'iot-project',\n",
       " 'iot-project',\n",
       " 'iot-project',\n",
       " 'iot-project',\n",
       " 'iot-project',\n",
       " 'iot-project',\n",
       " 'iot-project',\n",
       " 'iot-project',\n",
       " 'iot-project',\n",
       " 'iot-project',\n",
       " 'iot-project',\n",
       " 'iot-project',\n",
       " 'iot-project',\n",
       " 'iot-project',\n",
       " 'iot-project',\n",
       " 'iot-project',\n",
       " 'iot-project',\n",
       " 'iot-project',\n",
       " 'iot-project',\n",
       " 'iot-project',\n",
       " 'iot-project',\n",
       " 'iot-project',\n",
       " 'iot-project',\n",
       " 'iot-project',\n",
       " 'iot-project',\n",
       " 'iot-project',\n",
       " 'iot-project',\n",
       " 'iot-project',\n",
       " 'iot-project',\n",
       " 'iot-project',\n",
       " 'iot-project',\n",
       " 'iot-project',\n",
       " 'iot-project',\n",
       " 'iot-project',\n",
       " 'iot-project',\n",
       " 'iot-project',\n",
       " 'iot-project',\n",
       " 'iot-project',\n",
       " 'iot-project',\n",
       " 'iot-project',\n",
       " 'iot-project',\n",
       " 'iot-project',\n",
       " 'iot-project',\n",
       " 'iot-project',\n",
       " 'iot-project',\n",
       " 'iot-project',\n",
       " 'iot-project',\n",
       " 'iot-project',\n",
       " 'iot-project',\n",
       " 'iot-project',\n",
       " 'iot-project',\n",
       " 'iot-project',\n",
       " 'iot-project',\n",
       " 'iot-project',\n",
       " 'iot-project',\n",
       " 'iot-project',\n",
       " 'iot-project',\n",
       " 'iot-project',\n",
       " 'iot-project',\n",
       " 'iot-project',\n",
       " 'iot-project',\n",
       " 'iot-project',\n",
       " 'iot-project',\n",
       " 'iot-project',\n",
       " 'iot-project',\n",
       " 'iot-project',\n",
       " 'iot-project',\n",
       " 'iot-project',\n",
       " 'iot-project',\n",
       " 'iot-project',\n",
       " 'iot-project',\n",
       " 'iot-project',\n",
       " 'iot-project',\n",
       " 'iot-project',\n",
       " 'iot-project',\n",
       " 'iot-project',\n",
       " 'iot-project',\n",
       " 'iot-project',\n",
       " 'iot-project',\n",
       " 'iot-project',\n",
       " 'iot-project',\n",
       " 'iot-project',\n",
       " 'iot-project',\n",
       " 'iot-project',\n",
       " 'iot-project',\n",
       " 'iot-project',\n",
       " 'iot-project',\n",
       " 'iot-project',\n",
       " 'iot-project',\n",
       " 'iot-project',\n",
       " 'iot-project',\n",
       " 'iot-project',\n",
       " 'iot-project',\n",
       " 'iot-project',\n",
       " 'iot-project',\n",
       " 'iot-project',\n",
       " 'iot-project',\n",
       " 'iot-project',\n",
       " 'iot-project',\n",
       " 'iot-project',\n",
       " 'iot-project',\n",
       " 'iot-project',\n",
       " 'iot-project',\n",
       " 'iot-project',\n",
       " 'iot-project',\n",
       " 'iot-project',\n",
       " 'iot-project',\n",
       " 'iot-project',\n",
       " 'iot-project',\n",
       " 'iot-project',\n",
       " 'iot-project',\n",
       " 'iot-project',\n",
       " 'iot-project',\n",
       " 'iot-project',\n",
       " 'iot-project',\n",
       " 'iot-project',\n",
       " 'iot-project',\n",
       " 'iot-project',\n",
       " 'iot-project',\n",
       " 'iot-project',\n",
       " 'iot-project',\n",
       " 'iot-project',\n",
       " 'iot-project',\n",
       " 'iot-project',\n",
       " 'iot-project',\n",
       " 'iot-project',\n",
       " 'iot-project',\n",
       " 'iot-project',\n",
       " 'iot-project',\n",
       " 'iot-project',\n",
       " 'iot-project',\n",
       " 'iot-project',\n",
       " 'iot-project',\n",
       " 'iot-project',\n",
       " 'iot-project',\n",
       " 'iot-project',\n",
       " 'iot-project',\n",
       " 'iot-project',\n",
       " 'iot-project',\n",
       " 'iot-project',\n",
       " 'iot-project',\n",
       " 'iot-project',\n",
       " 'iot-project',\n",
       " 'iot-project',\n",
       " 'iot-project',\n",
       " 'iot-project',\n",
       " 'iot-project',\n",
       " 'iot-project',\n",
       " 'iot-project',\n",
       " 'iot-project',\n",
       " 'iot-project',\n",
       " 'iot-project',\n",
       " 'iot-project',\n",
       " 'iot-project',\n",
       " 'iot-project',\n",
       " 'iot-project',\n",
       " 'iot-project',\n",
       " 'iot-project',\n",
       " 'iot-project',\n",
       " 'iot-project',\n",
       " 'iot-project',\n",
       " 'iot-project',\n",
       " 'iot-project',\n",
       " 'iot-project',\n",
       " 'iot-project',\n",
       " 'iot-project',\n",
       " 'iot-project',\n",
       " 'iot-project',\n",
       " 'iot-project',\n",
       " 'iot-project',\n",
       " 'iot-project',\n",
       " 'iot-project',\n",
       " 'iot-project',\n",
       " 'iot-project',\n",
       " 'iot-project',\n",
       " 'iot-project',\n",
       " 'iot-project',\n",
       " 'iot-project',\n",
       " 'iot-project',\n",
       " 'iot-project',\n",
       " 'iot-project',\n",
       " 'iot-project',\n",
       " 'iot-project',\n",
       " 'iot-project',\n",
       " 'iot-project',\n",
       " 'iot-project',\n",
       " 'iot-project',\n",
       " 'iot-project',\n",
       " 'iot-project',\n",
       " 'iot-project',\n",
       " 'iot-project',\n",
       " 'iot-project',\n",
       " 'iot-project',\n",
       " 'iot-project',\n",
       " 'iot-project',\n",
       " 'iot-project',\n",
       " 'iot-project',\n",
       " 'iot-project',\n",
       " 'iot-project',\n",
       " 'iot-project',\n",
       " 'iot-project',\n",
       " 'iot-project',\n",
       " 'iot-project',\n",
       " 'iot-project',\n",
       " 'iot-project',\n",
       " 'iot-project',\n",
       " 'iot-project',\n",
       " 'iot-project',\n",
       " 'iot-project',\n",
       " 'iot-project',\n",
       " 'iot-project',\n",
       " 'iot-project',\n",
       " 'iot-project',\n",
       " 'iot-project',\n",
       " 'iot-project',\n",
       " 'iot-project',\n",
       " 'iot-project',\n",
       " 'iot-project',\n",
       " 'iot-project',\n",
       " 'iot-project',\n",
       " 'iot-project',\n",
       " 'iot-project',\n",
       " 'iot-project',\n",
       " 'iot-project',\n",
       " 'iot-project',\n",
       " 'iot-project',\n",
       " 'iot-project',\n",
       " 'iot-project',\n",
       " 'iot-project',\n",
       " 'iot-project',\n",
       " 'iot-project',\n",
       " 'iot-project',\n",
       " 'iot-project',\n",
       " 'iot-project',\n",
       " 'iot-project',\n",
       " 'iot-project',\n",
       " 'iot-project',\n",
       " 'iot-project',\n",
       " 'iot-project',\n",
       " 'iot-project',\n",
       " 'iot-project',\n",
       " 'iot-project',\n",
       " 'iot-project',\n",
       " 'iot-project',\n",
       " 'iot-project',\n",
       " 'iot-project',\n",
       " 'iot-project',\n",
       " 'iot-project',\n",
       " 'iot-project',\n",
       " 'iot-project',\n",
       " 'iot-project',\n",
       " 'iot-project',\n",
       " 'iot-project',\n",
       " 'iot-project',\n",
       " 'iot-project',\n",
       " 'iot-project',\n",
       " 'iot-project',\n",
       " 'iot-project',\n",
       " 'iot-project',\n",
       " 'iot-project',\n",
       " 'iot-project',\n",
       " 'iot-project',\n",
       " 'iot-project',\n",
       " 'iot-project',\n",
       " 'iot-project',\n",
       " 'iot-project',\n",
       " 'iot-project',\n",
       " 'iot-project',\n",
       " ...]"
      ]
     },
     "execution_count": 9,
     "metadata": {},
     "output_type": "execute_result"
    }
   ],
   "source": [
    "L"
   ]
  },
  {
   "cell_type": "code",
   "execution_count": 10,
   "metadata": {},
   "outputs": [],
   "source": [
    "label = []"
   ]
  },
  {
   "cell_type": "code",
   "execution_count": 11,
   "metadata": {},
   "outputs": [],
   "source": [
    "for i in L:\n",
    "    if i == 'iot-project' or i == 'Iot-Project':\n",
    "        label.append(1)\n",
    "        \n",
    "    elif i == 'non-iot-project':\n",
    "        label.append(0)"
   ]
  },
  {
   "cell_type": "code",
   "execution_count": 12,
   "metadata": {},
   "outputs": [
    {
     "data": {
      "text/plain": [
       "2734"
      ]
     },
     "execution_count": 12,
     "metadata": {},
     "output_type": "execute_result"
    }
   ],
   "source": [
    "len(label)"
   ]
  },
  {
   "cell_type": "code",
   "execution_count": 13,
   "metadata": {},
   "outputs": [],
   "source": [
    "category_codes = {'non-iot-project': 0, 'iot-project': 1,}"
   ]
  },
  {
   "cell_type": "code",
   "execution_count": 14,
   "metadata": {},
   "outputs": [
    {
     "data": {
      "text/plain": [
       "{'non-iot-project': 0, 'iot-project': 1}"
      ]
     },
     "execution_count": 14,
     "metadata": {},
     "output_type": "execute_result"
    }
   ],
   "source": [
    "category_codes"
   ]
  },
  {
   "cell_type": "code",
   "execution_count": 15,
   "metadata": {},
   "outputs": [],
   "source": [
    "la2 = pd.Series(label)"
   ]
  },
  {
   "cell_type": "code",
   "execution_count": 16,
   "metadata": {},
   "outputs": [],
   "source": [
    "la_2 = la2.replace({'Category_Code':category_codes})"
   ]
  },
  {
   "cell_type": "code",
   "execution_count": 17,
   "metadata": {},
   "outputs": [
    {
     "data": {
      "text/plain": [
       "0       1\n",
       "1       1\n",
       "2       1\n",
       "3       1\n",
       "4       1\n",
       "       ..\n",
       "2729    0\n",
       "2730    0\n",
       "2731    0\n",
       "2732    0\n",
       "2733    0\n",
       "Length: 2734, dtype: int64"
      ]
     },
     "execution_count": 17,
     "metadata": {},
     "output_type": "execute_result"
    }
   ],
   "source": [
    "la_2"
   ]
  },
  {
   "cell_type": "code",
   "execution_count": 18,
   "metadata": {},
   "outputs": [
    {
     "data": {
      "text/plain": [
       "2734"
      ]
     },
     "execution_count": 18,
     "metadata": {},
     "output_type": "execute_result"
    }
   ],
   "source": [
    "len(la_2)"
   ]
  },
  {
   "cell_type": "code",
   "execution_count": 19,
   "metadata": {},
   "outputs": [],
   "source": [
    " df = pd.DataFrame({\"Content\":con})"
   ]
  },
  {
   "cell_type": "code",
   "execution_count": 20,
   "metadata": {
    "scrolled": true
   },
   "outputs": [
    {
     "data": {
      "text/html": [
       "<div>\n",
       "<style scoped>\n",
       "    .dataframe tbody tr th:only-of-type {\n",
       "        vertical-align: middle;\n",
       "    }\n",
       "\n",
       "    .dataframe tbody tr th {\n",
       "        vertical-align: top;\n",
       "    }\n",
       "\n",
       "    .dataframe thead th {\n",
       "        text-align: right;\n",
       "    }\n",
       "</style>\n",
       "<table border=\"1\" class=\"dataframe\">\n",
       "  <thead>\n",
       "    <tr style=\"text-align: right;\">\n",
       "      <th></th>\n",
       "      <th>Content</th>\n",
       "    </tr>\n",
       "  </thead>\n",
       "  <tbody>\n",
       "    <tr>\n",
       "      <th>0</th>\n",
       "      <td>connect  modbus energy meter   arduino  monito...</td>\n",
       "    </tr>\n",
       "    <tr>\n",
       "      <th>1</th>\n",
       "      <td>remote control  laser   use  multiple argons r...</td>\n",
       "    </tr>\n",
       "    <tr>\n",
       "      <th>2</th>\n",
       "      <td>know   go check   trek get call without stall ...</td>\n",
       "    </tr>\n",
       "    <tr>\n",
       "      <th>3</th>\n",
       "      <td>simple tutorial  connect microbit  azure  les...</td>\n",
       "    </tr>\n",
       "    <tr>\n",
       "      <th>4</th>\n",
       "      <td>tire  joystick control   phone use l298n ardui...</td>\n",
       "    </tr>\n",
       "    <tr>\n",
       "      <th>...</th>\n",
       "      <td>...</td>\n",
       "    </tr>\n",
       "    <tr>\n",
       "      <th>2729</th>\n",
       "      <td>need   plant companion  dont   green thumb tr...</td>\n",
       "    </tr>\n",
       "    <tr>\n",
       "      <th>2730</th>\n",
       "      <td>make  tiny folcloric breakfast set   daughter...</td>\n",
       "    </tr>\n",
       "    <tr>\n",
       "      <th>2731</th>\n",
       "      <td>tiny speed challenge inspire   make something...</td>\n",
       "    </tr>\n",
       "    <tr>\n",
       "      <th>2732</th>\n",
       "      <td>instructable ill show    make  tiny photo al...</td>\n",
       "    </tr>\n",
       "    <tr>\n",
       "      <th>2733</th>\n",
       "      <td>one   many fashion trend   last two years   ri...</td>\n",
       "    </tr>\n",
       "  </tbody>\n",
       "</table>\n",
       "<p>2734 rows × 1 columns</p>\n",
       "</div>"
      ],
      "text/plain": [
       "                                                Content\n",
       "0     connect  modbus energy meter   arduino  monito...\n",
       "1     remote control  laser   use  multiple argons r...\n",
       "2     know   go check   trek get call without stall ...\n",
       "3      simple tutorial  connect microbit  azure  les...\n",
       "4     tire  joystick control   phone use l298n ardui...\n",
       "...                                                 ...\n",
       "2729   need   plant companion  dont   green thumb tr...\n",
       "2730   make  tiny folcloric breakfast set   daughter...\n",
       "2731   tiny speed challenge inspire   make something...\n",
       "2732    instructable ill show    make  tiny photo al...\n",
       "2733  one   many fashion trend   last two years   ri...\n",
       "\n",
       "[2734 rows x 1 columns]"
      ]
     },
     "execution_count": 20,
     "metadata": {},
     "output_type": "execute_result"
    }
   ],
   "source": [
    "df"
   ]
  },
  {
   "cell_type": "code",
   "execution_count": 21,
   "metadata": {},
   "outputs": [],
   "source": [
    "#####################################  Training Module Starts  #########################################"
   ]
  },
  {
   "cell_type": "code",
   "execution_count": 22,
   "metadata": {},
   "outputs": [],
   "source": [
    "X_train, X_test, y_train, y_test = train_test_split(df, la_2, test_size=0.15, random_state=8)"
   ]
  },
  {
   "cell_type": "code",
   "execution_count": 23,
   "metadata": {},
   "outputs": [
    {
     "data": {
      "text/html": [
       "<div>\n",
       "<style scoped>\n",
       "    .dataframe tbody tr th:only-of-type {\n",
       "        vertical-align: middle;\n",
       "    }\n",
       "\n",
       "    .dataframe tbody tr th {\n",
       "        vertical-align: top;\n",
       "    }\n",
       "\n",
       "    .dataframe thead th {\n",
       "        text-align: right;\n",
       "    }\n",
       "</style>\n",
       "<table border=\"1\" class=\"dataframe\">\n",
       "  <thead>\n",
       "    <tr style=\"text-align: right;\">\n",
       "      <th></th>\n",
       "      <th>Content</th>\n",
       "    </tr>\n",
       "  </thead>\n",
       "  <tbody>\n",
       "    <tr>\n",
       "      <th>1214</th>\n",
       "      <td>cool iot project  beginners use nodemcu  bl...</td>\n",
       "    </tr>\n",
       "    <tr>\n",
       "      <th>271</th>\n",
       "      <td>weve  see  float wine bottle holders  holder s...</td>\n",
       "    </tr>\n",
       "    <tr>\n",
       "      <th>1798</th>\n",
       "      <td>youve ever  one   iconic rainbow bagels   bag...</td>\n",
       "    </tr>\n",
       "    <tr>\n",
       "      <th>663</th>\n",
       "      <td>connect  particle photon directly  azure iot h...</td>\n",
       "    </tr>\n",
       "    <tr>\n",
       "      <th>1926</th>\n",
       "      <td>lot  part   instructable  could  improve  pa...</td>\n",
       "    </tr>\n",
       "    <tr>\n",
       "      <th>...</th>\n",
       "      <td>...</td>\n",
       "    </tr>\n",
       "    <tr>\n",
       "      <th>636</th>\n",
       "      <td>use two 915mhz radio  sendreceive current envi...</td>\n",
       "    </tr>\n",
       "    <tr>\n",
       "      <th>1331</th>\n",
       "      <td>fairly straightforward project  get introduce ...</td>\n",
       "    </tr>\n",
       "    <tr>\n",
       "      <th>392</th>\n",
       "      <td>convert  rc car   iot car   particle photon  c...</td>\n",
       "    </tr>\n",
       "    <tr>\n",
       "      <th>995</th>\n",
       "      <td>esp32 feather display real time clock read    ...</td>\n",
       "    </tr>\n",
       "    <tr>\n",
       "      <th>2617</th>\n",
       "      <td>skinny  year   school    end   year award ...</td>\n",
       "    </tr>\n",
       "  </tbody>\n",
       "</table>\n",
       "<p>411 rows × 1 columns</p>\n",
       "</div>"
      ],
      "text/plain": [
       "                                                Content\n",
       "1214     cool iot project  beginners use nodemcu  bl...\n",
       "271   weve  see  float wine bottle holders  holder s...\n",
       "1798   youve ever  one   iconic rainbow bagels   bag...\n",
       "663   connect  particle photon directly  azure iot h...\n",
       "1926    lot  part   instructable  could  improve  pa...\n",
       "...                                                 ...\n",
       "636   use two 915mhz radio  sendreceive current envi...\n",
       "1331  fairly straightforward project  get introduce ...\n",
       "392   convert  rc car   iot car   particle photon  c...\n",
       "995   esp32 feather display real time clock read    ...\n",
       "2617      skinny  year   school    end   year award ...\n",
       "\n",
       "[411 rows x 1 columns]"
      ]
     },
     "execution_count": 23,
     "metadata": {},
     "output_type": "execute_result"
    }
   ],
   "source": [
    "\n",
    "X_test"
   ]
  },
  {
   "cell_type": "code",
   "execution_count": 24,
   "metadata": {},
   "outputs": [
    {
     "data": {
      "text/plain": [
       "2489    0\n",
       "184     1\n",
       "1360    1\n",
       "212     0\n",
       "186     1\n",
       "       ..\n",
       "2181    0\n",
       "2409    0\n",
       "2033    0\n",
       "1364    1\n",
       "451     1\n",
       "Length: 2323, dtype: int64"
      ]
     },
     "execution_count": 24,
     "metadata": {},
     "output_type": "execute_result"
    }
   ],
   "source": [
    "y_train"
   ]
  },
  {
   "cell_type": "code",
   "execution_count": 25,
   "metadata": {},
   "outputs": [],
   "source": [
    "ngram_range = (1,2)\n",
    "min_df = 10\n",
    "max_df = 1.\n",
    "max_features =300# not clear how to choose this value"
   ]
  },
  {
   "cell_type": "code",
   "execution_count": 26,
   "metadata": {},
   "outputs": [],
   "source": [
    "tfidf = TfidfVectorizer(encoding='utf-8',\n",
    "                        ngram_range=ngram_range,\n",
    "                        stop_words=None,\n",
    "                        lowercase=False,\n",
    "                        max_df=max_df,\n",
    "                        min_df=min_df,\n",
    "                        max_features=max_features,\n",
    "                        norm='l2',\n",
    "                        sublinear_tf=True)"
   ]
  },
  {
   "cell_type": "code",
   "execution_count": 27,
   "metadata": {},
   "outputs": [
    {
     "name": "stdout",
     "output_type": "stream",
     "text": [
      "[[0.         0.         0.         ... 0.         0.         0.        ]\n",
      " [0.         0.         0.         ... 0.08142891 0.         0.        ]\n",
      " [0.         0.         0.         ... 0.         0.         0.        ]\n",
      " ...\n",
      " [0.         0.11856539 0.         ... 0.         0.         0.        ]\n",
      " [0.         0.         0.         ... 0.         0.         0.        ]\n",
      " [0.         0.         0.19864862 ... 0.12465331 0.         0.        ]]\n"
     ]
    }
   ],
   "source": [
    "features_train = tfidf.fit_transform(X_train['Content']).toarray()\n",
    "print(features_train)\n",
    "\n",
    "\n"
   ]
  },
  {
   "cell_type": "code",
   "execution_count": 28,
   "metadata": {},
   "outputs": [
    {
     "name": "stdout",
     "output_type": "stream",
     "text": [
      "[[0.09693965 0.         0.         ... 0.         0.         0.        ]\n",
      " [0.         0.08766861 0.09405929 ... 0.         0.09071051 0.09667642]\n",
      " [0.10613959 0.06474572 0.         ... 0.         0.         0.        ]\n",
      " ...\n",
      " [0.         0.         0.06570012 ... 0.         0.         0.        ]\n",
      " [0.         0.15130654 0.         ... 0.         0.         0.        ]\n",
      " [0.06666594 0.0688545  0.07387371 ... 0.         0.10040958 0.04484501]]\n"
     ]
    }
   ],
   "source": [
    "features_test = tfidf.fit_transform(X_test['Content']).toarray()\n",
    "print(features_test)\n"
   ]
  },
  {
   "cell_type": "code",
   "execution_count": 29,
   "metadata": {},
   "outputs": [],
   "source": [
    "\n",
    "\n",
    "#####################################  Training Module Ends  #########################################"
   ]
  },
  {
   "cell_type": "code",
   "execution_count": 30,
   "metadata": {},
   "outputs": [],
   "source": [
    "################################## DECISION TREE ###############################################"
   ]
  },
  {
   "cell_type": "code",
   "execution_count": 31,
   "metadata": {},
   "outputs": [
    {
     "data": {
      "text/plain": [
       "DecisionTreeClassifier(ccp_alpha=0.0, class_weight=None, criterion='gini',\n",
       "                       max_depth=None, max_features=None, max_leaf_nodes=None,\n",
       "                       min_impurity_decrease=0.0, min_impurity_split=None,\n",
       "                       min_samples_leaf=1, min_samples_split=2,\n",
       "                       min_weight_fraction_leaf=0.0, presort='deprecated',\n",
       "                       random_state=20, splitter='best')"
      ]
     },
     "execution_count": 31,
     "metadata": {},
     "output_type": "execute_result"
    }
   ],
   "source": [
    "#DTC =DecisionTreeClassifier(class_weight=None, criterion='gini', max_depth=5,max_features=None, max_leaf_nodes=10, min_samples_leaf=5,min_samples_split=2, min_weight_fraction_leaf=0.0,random_state=None, splitter='random')\n",
    "DTC = DecisionTreeClassifier(random_state=20)\n",
    "DTC.fit(features_train, y_train)\n"
   ]
  },
  {
   "cell_type": "code",
   "execution_count": 32,
   "metadata": {},
   "outputs": [],
   "source": [
    "# save the model to disk\n",
    "filename = 'finalized_model.sav'\n",
    "pickle.dump(DTC, open(filename, 'wb'))"
   ]
  },
  {
   "cell_type": "code",
   "execution_count": 33,
   "metadata": {},
   "outputs": [
    {
     "name": "stdout",
     "output_type": "stream",
     "text": [
      "Testing Accuacy 0.9124087591240876\n"
     ]
    }
   ],
   "source": [
    "# load the model from disk\n",
    "loaded_model = pickle.load(open(filename, 'rb'))\n",
    "result = loaded_model.score(features_test, y_test)\n",
    "print(\"Testing Accuacy\",result)"
   ]
  },
  {
   "cell_type": "code",
   "execution_count": 34,
   "metadata": {},
   "outputs": [
    {
     "data": {
      "text/plain": [
       "array([1, 1, 0, 1, 0, 1, 0, 0, 0, 1, 1, 1, 0, 1, 0, 1, 1, 0, 0, 1, 0, 1,\n",
       "       0, 0, 1, 1, 0, 1, 1, 1, 0, 0, 1, 1, 1, 0, 1, 1, 1, 0, 1, 0, 1, 0,\n",
       "       1, 0, 0, 0, 0, 1, 0, 1, 0, 0, 0, 1, 1, 0, 1, 1, 1, 0, 1, 0, 1, 0,\n",
       "       0, 1, 1, 1, 1, 0, 1, 1, 0, 0, 0, 0, 0, 1, 1, 0, 0, 1, 1, 1, 0, 0,\n",
       "       0, 0, 1, 0, 1, 1, 1, 0, 1, 1, 1, 0, 0, 0, 1, 1, 1, 1, 1, 1, 1, 1,\n",
       "       1, 0, 0, 1, 1, 1, 1, 1, 1, 1, 0, 1, 0, 1, 1, 0, 0, 1, 0, 1, 1, 1,\n",
       "       1, 1, 1, 1, 1, 0, 1, 0, 0, 0, 1, 1, 1, 1, 1, 1, 0, 1, 1, 0, 1, 1,\n",
       "       0, 0, 0, 1, 1, 0, 0, 0, 1, 0, 0, 1, 0, 1, 1, 0, 1, 0, 1, 1, 1, 1,\n",
       "       1, 1, 0, 1, 1, 1, 0, 0, 0, 0, 0, 1, 1, 1, 1, 0, 0, 0, 1, 0, 1, 0,\n",
       "       1, 0, 1, 1, 0, 1, 1, 1, 1, 0, 1, 1, 1, 1, 1, 1, 1, 1, 1, 0, 1, 0,\n",
       "       1, 0, 1, 1, 1, 1, 0, 0, 0, 0, 1, 1, 1, 0, 0, 0, 0, 0, 1, 0, 0, 0,\n",
       "       1, 1, 1, 0, 0, 1, 0, 1, 1, 0, 1, 1, 1, 0, 0, 1, 0, 0, 0, 1, 1, 0,\n",
       "       0, 0, 0, 0, 0, 1, 1, 0, 1, 0, 0, 1, 1, 1, 1, 1, 0, 1, 1, 1, 1, 1,\n",
       "       1, 1, 1, 0, 0, 0, 1, 1, 1, 1, 1, 0, 1, 0, 1, 1, 0, 0, 0, 0, 1, 1,\n",
       "       0, 1, 0, 1, 1, 1, 1, 1, 0, 1, 0, 0, 1, 1, 0, 1, 0, 1, 0, 0, 1, 1,\n",
       "       1, 1, 0, 0, 0, 1, 0, 1, 0, 1, 1, 1, 1, 0, 1, 1, 0, 1, 1, 1, 0, 1,\n",
       "       0, 1, 0, 1, 0, 0, 1, 0, 1, 0, 1, 0, 0, 0, 1, 1, 0, 1, 1, 0, 1, 1,\n",
       "       1, 0, 1, 1, 1, 1, 1, 1, 1, 1, 1, 1, 0, 0, 0, 1, 0, 1, 1, 0, 0, 0,\n",
       "       1, 1, 1, 0, 1, 1, 1, 1, 1, 0, 1, 1, 1, 1, 1], dtype=int64)"
      ]
     },
     "execution_count": 34,
     "metadata": {},
     "output_type": "execute_result"
    }
   ],
   "source": [
    "\n",
    "DTC_pred = loaded_model.predict(features_test)\n",
    "DTC_pred"
   ]
  },
  {
   "cell_type": "code",
   "execution_count": 35,
   "metadata": {},
   "outputs": [
    {
     "name": "stdout",
     "output_type": "stream",
     "text": [
      "[[168  36]\n",
      " [  0 207]]\n"
     ]
    }
   ],
   "source": [
    "from sklearn.metrics import confusion_matrix\n",
    "matrix = confusion_matrix(y_test, DTC_pred)\n",
    "print(matrix)\n"
   ]
  },
  {
   "cell_type": "code",
   "execution_count": 36,
   "metadata": {
    "scrolled": true
   },
   "outputs": [
    {
     "name": "stdout",
     "output_type": "stream",
     "text": [
      "              precision    recall  f1-score   support\n",
      "\n",
      "           0       1.00      0.82      0.90       204\n",
      "           1       0.85      1.00      0.92       207\n",
      "\n",
      "    accuracy                           0.91       411\n",
      "   macro avg       0.93      0.91      0.91       411\n",
      "weighted avg       0.93      0.91      0.91       411\n",
      "\n"
     ]
    }
   ],
   "source": [
    "report = classification_report(y_test, DTC_pred)\n",
    "print(report)"
   ]
  },
  {
   "cell_type": "code",
   "execution_count": 37,
   "metadata": {},
   "outputs": [],
   "source": [
    "##############NAIVE BAYES######################"
   ]
  },
  {
   "cell_type": "code",
   "execution_count": 38,
   "metadata": {},
   "outputs": [
    {
     "data": {
      "text/plain": [
       "MultinomialNB(alpha=100, class_prior=None, fit_prior=True)"
      ]
     },
     "execution_count": 38,
     "metadata": {},
     "output_type": "execute_result"
    }
   ],
   "source": [
    "Naive = naive_bayes.MultinomialNB(alpha=100)\n",
    "Naive.fit(features_train, y_train)\n",
    "\n"
   ]
  },
  {
   "cell_type": "code",
   "execution_count": 39,
   "metadata": {},
   "outputs": [],
   "source": [
    "# save the model to disk\n",
    "filename_naive = 'finalized_naive.sav'\n",
    "pickle.dump(Naive, open(filename_naive, 'wb'))"
   ]
  },
  {
   "cell_type": "code",
   "execution_count": 40,
   "metadata": {},
   "outputs": [
    {
     "name": "stdout",
     "output_type": "stream",
     "text": [
      "Testing Accuacy 0.9343065693430657\n"
     ]
    }
   ],
   "source": [
    "# load the model from disk\n",
    "loaded_naive = pickle.load(open(filename_naive, 'rb'))\n",
    "result = loaded_naive.score(features_test, y_test)\n",
    "print(\"Testing Accuacy\",result)"
   ]
  },
  {
   "cell_type": "code",
   "execution_count": 41,
   "metadata": {},
   "outputs": [
    {
     "data": {
      "text/plain": [
       "array([1, 0, 0, 1, 0, 1, 0, 0, 0, 1, 1, 1, 0, 1, 0, 1, 1, 0, 0, 1, 0, 1,\n",
       "       0, 0, 1, 1, 0, 1, 1, 1, 0, 0, 1, 0, 0, 0, 1, 1, 1, 0, 0, 0, 1, 0,\n",
       "       0, 0, 0, 0, 0, 1, 0, 1, 0, 0, 0, 1, 1, 0, 1, 1, 1, 0, 1, 0, 0, 0,\n",
       "       0, 0, 1, 1, 1, 0, 1, 1, 0, 0, 0, 0, 0, 0, 0, 0, 0, 0, 0, 0, 0, 0,\n",
       "       0, 0, 0, 0, 0, 0, 0, 0, 1, 1, 1, 0, 0, 0, 0, 1, 1, 0, 1, 1, 1, 1,\n",
       "       0, 0, 0, 1, 1, 1, 0, 1, 1, 1, 0, 0, 0, 1, 1, 0, 0, 1, 0, 1, 0, 1,\n",
       "       1, 0, 1, 1, 1, 0, 1, 1, 0, 0, 1, 1, 1, 1, 1, 0, 1, 0, 1, 0, 1, 1,\n",
       "       0, 0, 0, 1, 1, 0, 0, 0, 1, 0, 0, 1, 0, 0, 1, 0, 0, 0, 1, 1, 1, 1,\n",
       "       0, 1, 0, 1, 0, 1, 0, 0, 0, 0, 0, 0, 0, 1, 0, 0, 0, 0, 1, 0, 1, 0,\n",
       "       1, 1, 1, 1, 0, 1, 1, 1, 1, 0, 1, 1, 1, 0, 0, 1, 1, 1, 1, 0, 1, 0,\n",
       "       1, 0, 0, 1, 1, 1, 0, 0, 0, 0, 1, 1, 1, 0, 0, 0, 0, 0, 0, 0, 0, 0,\n",
       "       0, 1, 1, 0, 0, 1, 0, 0, 1, 0, 1, 1, 0, 0, 0, 1, 0, 0, 0, 1, 1, 0,\n",
       "       0, 0, 0, 0, 0, 1, 1, 0, 1, 0, 0, 1, 1, 1, 1, 1, 0, 1, 1, 1, 1, 0,\n",
       "       1, 0, 1, 0, 0, 0, 1, 1, 1, 1, 0, 0, 1, 0, 1, 1, 0, 0, 0, 0, 1, 1,\n",
       "       0, 1, 0, 1, 1, 1, 1, 1, 0, 0, 0, 0, 0, 0, 0, 1, 0, 1, 0, 0, 1, 1,\n",
       "       1, 1, 0, 0, 0, 1, 0, 0, 0, 1, 0, 1, 1, 0, 1, 1, 0, 1, 1, 1, 0, 1,\n",
       "       0, 1, 0, 1, 0, 0, 1, 0, 1, 0, 1, 0, 0, 0, 1, 1, 0, 1, 0, 0, 0, 1,\n",
       "       1, 0, 0, 1, 1, 0, 1, 1, 1, 1, 1, 0, 0, 0, 0, 1, 0, 1, 1, 0, 0, 0,\n",
       "       1, 1, 1, 0, 0, 0, 1, 1, 1, 0, 0, 1, 1, 1, 0], dtype=int64)"
      ]
     },
     "execution_count": 41,
     "metadata": {},
     "output_type": "execute_result"
    }
   ],
   "source": [
    "\n",
    "Naive_pred = loaded_naive.predict(features_test)\n",
    "Naive_pred"
   ]
  },
  {
   "cell_type": "code",
   "execution_count": 42,
   "metadata": {},
   "outputs": [
    {
     "name": "stdout",
     "output_type": "stream",
     "text": [
      "[[199   5]\n",
      " [ 22 185]]\n",
      "              precision    recall  f1-score   support\n",
      "\n",
      "           0       0.90      0.98      0.94       204\n",
      "           1       0.97      0.89      0.93       207\n",
      "\n",
      "    accuracy                           0.93       411\n",
      "   macro avg       0.94      0.93      0.93       411\n",
      "weighted avg       0.94      0.93      0.93       411\n",
      "\n"
     ]
    }
   ],
   "source": [
    "matrix = confusion_matrix(y_test, Naive_pred)\n",
    "print(matrix)\n",
    "report = classification_report(y_test, Naive_pred)\n",
    "print(report)\n"
   ]
  },
  {
   "cell_type": "code",
   "execution_count": null,
   "metadata": {},
   "outputs": [],
   "source": []
  },
  {
   "cell_type": "code",
   "execution_count": 43,
   "metadata": {},
   "outputs": [
    {
     "data": {
      "text/plain": [
       "LinearSVC(C=0.1, class_weight=None, dual=True, fit_intercept=True,\n",
       "          intercept_scaling=1, loss='squared_hinge', max_iter=1000,\n",
       "          multi_class='ovr', penalty='l2', random_state=None, tol=0.0001,\n",
       "          verbose=0)"
      ]
     },
     "execution_count": 43,
     "metadata": {},
     "output_type": "execute_result"
    }
   ],
   "source": [
    "SVM = svm.LinearSVC(C=0.1)\n",
    "SVM.fit(features_train, y_train)\n",
    "\n"
   ]
  },
  {
   "cell_type": "code",
   "execution_count": 44,
   "metadata": {},
   "outputs": [],
   "source": [
    "# save the model to disk\n",
    "filename_svm = 'finalized_svm.sav'\n",
    "pickle.dump(SVM, open(filename_svm, 'wb'))"
   ]
  },
  {
   "cell_type": "code",
   "execution_count": 45,
   "metadata": {},
   "outputs": [
    {
     "name": "stdout",
     "output_type": "stream",
     "text": [
      "Testing Accuacy 0.9464720194647201\n"
     ]
    }
   ],
   "source": [
    "# load the model from disk\n",
    "loaded_svm = pickle.load(open(filename_svm, 'rb'))\n",
    "result = loaded_svm.score(features_test, y_test)\n",
    "print(\"Testing Accuacy\",result)"
   ]
  },
  {
   "cell_type": "code",
   "execution_count": 46,
   "metadata": {},
   "outputs": [
    {
     "data": {
      "text/plain": [
       "array([1, 0, 0, 1, 0, 1, 0, 0, 0, 1, 1, 1, 0, 1, 0, 1, 1, 0, 0, 1, 0, 0,\n",
       "       0, 0, 1, 1, 0, 1, 1, 1, 0, 0, 1, 1, 0, 0, 1, 1, 1, 0, 0, 0, 1, 0,\n",
       "       0, 0, 0, 0, 0, 0, 0, 1, 0, 0, 0, 1, 1, 0, 1, 1, 1, 0, 1, 0, 0, 0,\n",
       "       0, 0, 1, 1, 0, 0, 1, 1, 0, 0, 0, 0, 0, 1, 1, 0, 0, 0, 0, 0, 0, 0,\n",
       "       0, 0, 0, 0, 1, 0, 1, 0, 1, 1, 1, 0, 0, 0, 0, 1, 1, 1, 1, 1, 1, 1,\n",
       "       0, 0, 0, 1, 1, 0, 0, 1, 1, 1, 0, 0, 0, 1, 1, 0, 0, 1, 0, 0, 1, 1,\n",
       "       1, 0, 1, 0, 0, 0, 1, 1, 0, 0, 1, 1, 1, 1, 1, 0, 0, 0, 1, 0, 1, 1,\n",
       "       0, 0, 0, 1, 1, 0, 0, 0, 1, 0, 0, 1, 0, 0, 1, 0, 0, 0, 1, 1, 1, 1,\n",
       "       0, 1, 0, 1, 0, 1, 0, 0, 0, 0, 0, 0, 1, 1, 0, 0, 0, 0, 1, 0, 1, 0,\n",
       "       1, 1, 1, 1, 0, 1, 1, 1, 1, 0, 1, 1, 1, 0, 1, 1, 1, 0, 1, 0, 0, 0,\n",
       "       1, 0, 0, 1, 1, 1, 1, 0, 0, 0, 1, 1, 1, 0, 0, 0, 0, 0, 0, 0, 0, 0,\n",
       "       0, 1, 1, 0, 0, 1, 0, 0, 1, 0, 1, 1, 0, 0, 0, 1, 0, 0, 0, 1, 1, 0,\n",
       "       0, 0, 0, 0, 0, 1, 1, 0, 1, 0, 0, 1, 1, 1, 1, 1, 0, 1, 1, 1, 1, 0,\n",
       "       1, 1, 1, 0, 0, 0, 1, 1, 1, 1, 1, 0, 1, 0, 1, 1, 0, 0, 0, 0, 1, 1,\n",
       "       0, 1, 0, 1, 1, 1, 1, 1, 0, 0, 0, 0, 1, 0, 0, 1, 0, 1, 0, 0, 1, 1,\n",
       "       1, 1, 0, 0, 0, 1, 0, 0, 0, 1, 1, 1, 1, 0, 1, 1, 0, 1, 1, 1, 0, 1,\n",
       "       0, 1, 0, 1, 0, 0, 1, 0, 1, 0, 1, 0, 0, 0, 1, 1, 0, 1, 1, 0, 1, 1,\n",
       "       1, 0, 0, 1, 1, 0, 1, 1, 1, 1, 1, 0, 0, 0, 0, 1, 0, 1, 1, 0, 0, 0,\n",
       "       1, 1, 1, 0, 0, 1, 1, 1, 1, 0, 0, 1, 1, 1, 0], dtype=int64)"
      ]
     },
     "execution_count": 46,
     "metadata": {},
     "output_type": "execute_result"
    }
   ],
   "source": [
    "svm_pred = loaded_svm.predict(features_test)\n",
    "svm_pred"
   ]
  },
  {
   "cell_type": "code",
   "execution_count": 47,
   "metadata": {},
   "outputs": [
    {
     "name": "stdout",
     "output_type": "stream",
     "text": [
      "[[198   6]\n",
      " [ 16 191]]\n",
      "              precision    recall  f1-score   support\n",
      "\n",
      "           0       0.93      0.97      0.95       204\n",
      "           1       0.97      0.92      0.95       207\n",
      "\n",
      "    accuracy                           0.95       411\n",
      "   macro avg       0.95      0.95      0.95       411\n",
      "weighted avg       0.95      0.95      0.95       411\n",
      "\n"
     ]
    }
   ],
   "source": [
    "matrix = confusion_matrix(y_test, svm_pred)\n",
    "print(matrix)\n",
    "report = classification_report(y_test, svm_pred)\n",
    "print(report)\n"
   ]
  },
  {
   "cell_type": "code",
   "execution_count": 48,
   "metadata": {},
   "outputs": [
    {
     "data": {
      "text/plain": [
       "KNeighborsClassifier(algorithm='auto', leaf_size=30, metric='minkowski',\n",
       "                     metric_params=None, n_jobs=None, n_neighbors=9, p=2,\n",
       "                     weights='distance')"
      ]
     },
     "execution_count": 48,
     "metadata": {},
     "output_type": "execute_result"
    }
   ],
   "source": [
    "knn = KNeighborsClassifier(n_neighbors=9,weights='distance')\n",
    "knn.fit(features_train, y_train)"
   ]
  },
  {
   "cell_type": "code",
   "execution_count": 49,
   "metadata": {},
   "outputs": [],
   "source": [
    "# save the model to disk\n",
    "filename_knn = 'finalized_knn.sav'\n",
    "pickle.dump(knn, open(filename_knn, 'wb'))"
   ]
  },
  {
   "cell_type": "code",
   "execution_count": 50,
   "metadata": {},
   "outputs": [
    {
     "name": "stdout",
     "output_type": "stream",
     "text": [
      "Testing Accuacy 0.902676399026764\n"
     ]
    }
   ],
   "source": [
    "# load the model from disk\n",
    "loaded_knn = pickle.load(open(filename_knn, 'rb'))\n",
    "result = loaded_knn.score(features_test, y_test)\n",
    "print(\"Testing Accuacy\",result)"
   ]
  },
  {
   "cell_type": "code",
   "execution_count": 51,
   "metadata": {},
   "outputs": [
    {
     "data": {
      "text/plain": [
       "array([1, 0, 0, 1, 0, 1, 0, 0, 0, 1, 1, 1, 0, 1, 0, 1, 1, 0, 0, 1, 0, 1,\n",
       "       0, 0, 1, 1, 0, 1, 1, 1, 0, 0, 1, 0, 0, 0, 1, 1, 0, 0, 1, 0, 1, 0,\n",
       "       1, 0, 0, 0, 0, 0, 0, 1, 0, 0, 0, 1, 0, 0, 1, 1, 1, 0, 1, 0, 0, 0,\n",
       "       0, 0, 0, 1, 1, 0, 1, 1, 0, 0, 0, 0, 0, 0, 1, 0, 0, 0, 0, 0, 0, 0,\n",
       "       0, 0, 0, 0, 0, 0, 0, 0, 0, 1, 1, 0, 0, 0, 0, 1, 1, 0, 1, 1, 1, 0,\n",
       "       0, 0, 0, 1, 1, 1, 0, 1, 1, 1, 0, 0, 0, 0, 1, 0, 0, 1, 0, 1, 1, 1,\n",
       "       1, 0, 1, 1, 1, 0, 1, 1, 0, 0, 1, 1, 1, 0, 1, 0, 1, 0, 1, 0, 1, 1,\n",
       "       0, 0, 0, 1, 1, 0, 0, 0, 1, 0, 0, 0, 0, 0, 1, 0, 0, 0, 1, 1, 1, 1,\n",
       "       0, 1, 0, 1, 0, 1, 0, 0, 0, 0, 0, 0, 0, 1, 0, 0, 0, 0, 1, 0, 1, 0,\n",
       "       1, 1, 0, 1, 0, 1, 1, 1, 1, 0, 1, 1, 1, 0, 0, 1, 1, 1, 1, 0, 0, 0,\n",
       "       1, 0, 0, 1, 1, 1, 1, 0, 0, 0, 1, 1, 1, 1, 0, 0, 0, 0, 0, 0, 0, 0,\n",
       "       0, 1, 1, 0, 0, 1, 0, 0, 0, 0, 1, 1, 0, 1, 0, 1, 0, 0, 0, 1, 0, 0,\n",
       "       0, 0, 0, 0, 0, 1, 1, 1, 1, 0, 0, 1, 1, 1, 1, 1, 0, 1, 1, 1, 1, 0,\n",
       "       1, 0, 1, 0, 0, 0, 1, 1, 1, 1, 0, 0, 1, 0, 1, 1, 0, 0, 0, 0, 1, 1,\n",
       "       0, 1, 0, 1, 1, 1, 0, 1, 0, 0, 0, 0, 1, 0, 0, 1, 0, 1, 0, 0, 1, 0,\n",
       "       1, 1, 0, 0, 0, 1, 0, 1, 0, 1, 0, 1, 1, 0, 1, 1, 0, 1, 1, 1, 0, 1,\n",
       "       0, 1, 0, 1, 0, 0, 1, 0, 1, 0, 1, 0, 0, 0, 1, 1, 0, 1, 1, 0, 1, 1,\n",
       "       1, 0, 0, 1, 1, 0, 1, 1, 1, 1, 1, 0, 0, 0, 0, 1, 0, 1, 1, 0, 0, 0,\n",
       "       1, 1, 1, 0, 0, 0, 1, 1, 1, 0, 1, 0, 1, 1, 0], dtype=int64)"
      ]
     },
     "execution_count": 51,
     "metadata": {},
     "output_type": "execute_result"
    }
   ],
   "source": [
    "knn_pred = loaded_knn.predict(features_test)\n",
    "knn_pred"
   ]
  },
  {
   "cell_type": "code",
   "execution_count": 52,
   "metadata": {},
   "outputs": [
    {
     "name": "stdout",
     "output_type": "stream",
     "text": [
      "[[194  10]\n",
      " [ 30 177]]\n",
      "              precision    recall  f1-score   support\n",
      "\n",
      "           0       0.87      0.95      0.91       204\n",
      "           1       0.95      0.86      0.90       207\n",
      "\n",
      "    accuracy                           0.90       411\n",
      "   macro avg       0.91      0.90      0.90       411\n",
      "weighted avg       0.91      0.90      0.90       411\n",
      "\n"
     ]
    }
   ],
   "source": [
    "matrix = confusion_matrix(y_test, knn_pred)\n",
    "print(matrix)\n",
    "report = classification_report(y_test, knn_pred)\n",
    "print(report)"
   ]
  },
  {
   "cell_type": "code",
   "execution_count": 53,
   "metadata": {},
   "outputs": [
    {
     "data": {
      "text/plain": [
       "SGDClassifier(alpha=0.0001, average=False, class_weight=None,\n",
       "              early_stopping=False, epsilon=0.1, eta0=0.0, fit_intercept=True,\n",
       "              l1_ratio=0.15, learning_rate='optimal', loss='hinge',\n",
       "              max_iter=1000, n_iter_no_change=5, n_jobs=None, penalty='l2',\n",
       "              power_t=0.5, random_state=8, shuffle=True, tol=0.001,\n",
       "              validation_fraction=0.1, verbose=0, warm_start=False)"
      ]
     },
     "execution_count": 53,
     "metadata": {},
     "output_type": "execute_result"
    }
   ],
   "source": [
    "#clf = SGDClassifier(loss=\"log\", penalty=\"l1\", max_iter=100)\n",
    "SGD = SGDClassifier(random_state=8)\n",
    "SGD.fit(features_train, y_train)\n"
   ]
  },
  {
   "cell_type": "code",
   "execution_count": 54,
   "metadata": {},
   "outputs": [],
   "source": [
    "# save the model to disk\n",
    "filename_sgd = 'finalized_sgd.sav'\n",
    "pickle.dump(SGD, open(filename_sgd, 'wb'))"
   ]
  },
  {
   "cell_type": "code",
   "execution_count": 55,
   "metadata": {},
   "outputs": [
    {
     "name": "stdout",
     "output_type": "stream",
     "text": [
      "Testing Accuacy 0.8102189781021898\n"
     ]
    }
   ],
   "source": [
    "# load the model from disk\n",
    "loaded_sgd = pickle.load(open(filename_sgd, 'rb'))\n",
    "result = loaded_sgd.score(features_test, y_test)\n",
    "print(\"Testing Accuacy\",result)"
   ]
  },
  {
   "cell_type": "code",
   "execution_count": 56,
   "metadata": {},
   "outputs": [
    {
     "data": {
      "text/plain": [
       "array([1, 0, 0, 0, 0, 0, 0, 0, 0, 1, 1, 1, 0, 1, 0, 1, 1, 0, 0, 1, 0, 0,\n",
       "       0, 0, 0, 1, 0, 1, 1, 0, 0, 0, 0, 1, 0, 0, 0, 1, 0, 0, 0, 0, 1, 0,\n",
       "       0, 0, 0, 0, 0, 0, 0, 1, 0, 0, 0, 1, 0, 0, 1, 0, 1, 0, 0, 0, 0, 0,\n",
       "       0, 0, 1, 1, 0, 0, 0, 0, 0, 0, 0, 0, 0, 1, 1, 0, 0, 0, 0, 0, 0, 0,\n",
       "       0, 0, 0, 0, 0, 0, 1, 0, 0, 0, 1, 0, 0, 0, 0, 1, 1, 0, 1, 1, 0, 1,\n",
       "       0, 0, 0, 1, 1, 0, 0, 1, 1, 1, 0, 0, 0, 1, 1, 0, 0, 1, 0, 0, 0, 1,\n",
       "       1, 0, 1, 0, 0, 0, 1, 0, 0, 0, 1, 1, 1, 0, 0, 0, 0, 0, 0, 0, 0, 1,\n",
       "       0, 0, 0, 0, 1, 0, 0, 0, 0, 0, 0, 1, 0, 0, 1, 0, 0, 0, 1, 1, 0, 1,\n",
       "       0, 1, 0, 0, 0, 0, 0, 0, 0, 0, 0, 0, 0, 0, 0, 0, 0, 0, 1, 0, 1, 0,\n",
       "       1, 1, 1, 1, 0, 0, 1, 1, 1, 0, 1, 1, 1, 0, 1, 0, 1, 0, 1, 0, 0, 0,\n",
       "       1, 0, 0, 1, 1, 0, 0, 0, 0, 0, 0, 1, 1, 0, 0, 0, 0, 0, 0, 0, 0, 0,\n",
       "       0, 1, 1, 0, 0, 1, 0, 0, 1, 0, 0, 1, 0, 0, 0, 1, 0, 0, 0, 0, 0, 0,\n",
       "       0, 0, 0, 0, 0, 1, 0, 0, 0, 0, 0, 0, 0, 1, 1, 0, 0, 1, 1, 1, 0, 0,\n",
       "       1, 0, 1, 0, 0, 0, 1, 1, 0, 1, 1, 0, 1, 0, 1, 1, 0, 0, 0, 0, 0, 0,\n",
       "       0, 1, 0, 1, 1, 1, 1, 1, 0, 0, 0, 0, 1, 0, 0, 0, 0, 1, 0, 0, 1, 0,\n",
       "       1, 1, 0, 0, 0, 1, 0, 0, 0, 1, 1, 1, 0, 0, 1, 0, 0, 1, 0, 1, 0, 1,\n",
       "       0, 1, 0, 0, 0, 0, 1, 0, 1, 0, 0, 0, 0, 0, 1, 1, 0, 1, 0, 0, 0, 0,\n",
       "       1, 0, 0, 0, 1, 0, 0, 0, 1, 1, 1, 0, 0, 0, 0, 1, 0, 1, 1, 0, 0, 0,\n",
       "       0, 1, 0, 0, 0, 1, 1, 1, 1, 0, 0, 1, 0, 1, 0], dtype=int64)"
      ]
     },
     "execution_count": 56,
     "metadata": {},
     "output_type": "execute_result"
    }
   ],
   "source": [
    "sgd_pred = loaded_sgd.predict(features_test)\n",
    "sgd_pred"
   ]
  },
  {
   "cell_type": "code",
   "execution_count": 57,
   "metadata": {},
   "outputs": [
    {
     "name": "stdout",
     "output_type": "stream",
     "text": [
      "[[202   2]\n",
      " [ 76 131]]\n",
      "              precision    recall  f1-score   support\n",
      "\n",
      "           0       0.73      0.99      0.84       204\n",
      "           1       0.98      0.63      0.77       207\n",
      "\n",
      "    accuracy                           0.81       411\n",
      "   macro avg       0.86      0.81      0.80       411\n",
      "weighted avg       0.86      0.81      0.80       411\n",
      "\n"
     ]
    }
   ],
   "source": [
    "matrix = confusion_matrix(y_test, sgd_pred)\n",
    "print(matrix)\n",
    "report = classification_report(y_test, sgd_pred)\n",
    "print(report)"
   ]
  },
  {
   "cell_type": "code",
   "execution_count": 58,
   "metadata": {},
   "outputs": [
    {
     "data": {
      "text/plain": [
       "RandomForestClassifier(bootstrap=True, ccp_alpha=0.0, class_weight=None,\n",
       "                       criterion='gini', max_depth=None, max_features='log2',\n",
       "                       max_leaf_nodes=None, max_samples=None,\n",
       "                       min_impurity_decrease=0.0, min_impurity_split=None,\n",
       "                       min_samples_leaf=1, min_samples_split=2,\n",
       "                       min_weight_fraction_leaf=0.0, n_estimators=8,\n",
       "                       n_jobs=None, oob_score=False, random_state=8, verbose=0,\n",
       "                       warm_start=False)"
      ]
     },
     "execution_count": 58,
     "metadata": {},
     "output_type": "execute_result"
    }
   ],
   "source": [
    " \n",
    "random = RandomForestClassifier(n_estimators=8,max_features='log2',random_state=8)\n",
    "#regressor = RandomForestRegressor(n_estimators=2, max_depth=None,min_samples_split=2, min_samples_leaf=1, min_weight_fraction_leaf=0.0, max_features='auto', max_leaf_nodes=None,bootstrap=True, oob_score=False, n_jobs=1, random_state=None, verbose=0, warm_start=False)\n",
    "\n",
    "random.fit(features_train, y_train)"
   ]
  },
  {
   "cell_type": "code",
   "execution_count": 59,
   "metadata": {},
   "outputs": [],
   "source": [
    "# save the model to disk\n",
    "filename_random = 'finalized_random.sav'\n",
    "pickle.dump(random, open(filename_random, 'wb'))"
   ]
  },
  {
   "cell_type": "code",
   "execution_count": 60,
   "metadata": {},
   "outputs": [
    {
     "name": "stdout",
     "output_type": "stream",
     "text": [
      "Testing Accuacy 0.9197080291970803\n"
     ]
    }
   ],
   "source": [
    "# load the model from disk\n",
    "loaded_random = pickle.load(open(filename_random, 'rb'))\n",
    "result = loaded_random.score(features_test, y_test)\n",
    "print(\"Testing Accuacy\",result)"
   ]
  },
  {
   "cell_type": "code",
   "execution_count": 61,
   "metadata": {
    "scrolled": true
   },
   "outputs": [
    {
     "data": {
      "text/plain": [
       "array([1, 0, 0, 1, 0, 1, 0, 0, 0, 1, 1, 1, 0, 1, 0, 1, 1, 1, 0, 1, 0, 1,\n",
       "       0, 0, 1, 1, 1, 1, 1, 1, 0, 1, 1, 1, 0, 0, 1, 1, 1, 1, 1, 0, 1, 0,\n",
       "       0, 0, 0, 0, 1, 1, 0, 1, 0, 1, 0, 1, 1, 0, 1, 1, 1, 0, 1, 0, 0, 1,\n",
       "       0, 0, 1, 1, 1, 0, 1, 0, 0, 0, 0, 0, 1, 1, 1, 0, 0, 0, 0, 0, 0, 0,\n",
       "       1, 0, 0, 0, 1, 0, 1, 1, 0, 1, 1, 0, 0, 0, 0, 1, 1, 1, 1, 1, 1, 1,\n",
       "       0, 0, 0, 1, 1, 1, 1, 1, 1, 1, 0, 0, 0, 0, 1, 0, 0, 1, 0, 1, 1, 1,\n",
       "       1, 1, 1, 1, 1, 0, 1, 0, 0, 0, 1, 1, 1, 1, 1, 0, 0, 0, 1, 0, 1, 1,\n",
       "       0, 0, 1, 1, 1, 0, 0, 0, 1, 0, 0, 1, 0, 0, 1, 0, 0, 0, 0, 1, 1, 1,\n",
       "       1, 1, 1, 1, 0, 1, 0, 0, 0, 0, 0, 0, 1, 1, 0, 0, 0, 0, 1, 0, 1, 0,\n",
       "       1, 0, 1, 1, 0, 1, 1, 1, 1, 0, 1, 1, 1, 1, 0, 1, 1, 1, 1, 0, 1, 0,\n",
       "       1, 0, 1, 1, 1, 1, 1, 0, 0, 0, 1, 1, 1, 0, 0, 0, 0, 0, 0, 0, 0, 0,\n",
       "       0, 1, 0, 0, 0, 1, 0, 0, 1, 0, 1, 1, 1, 0, 0, 1, 0, 0, 1, 1, 1, 0,\n",
       "       0, 0, 0, 0, 0, 1, 1, 0, 1, 0, 0, 1, 0, 1, 1, 0, 0, 1, 1, 1, 1, 0,\n",
       "       0, 1, 1, 0, 0, 0, 1, 1, 0, 1, 1, 0, 1, 0, 1, 1, 0, 0, 0, 0, 1, 1,\n",
       "       0, 1, 0, 1, 1, 1, 1, 1, 0, 0, 0, 0, 0, 0, 0, 1, 0, 1, 0, 0, 1, 1,\n",
       "       1, 1, 0, 0, 0, 1, 0, 1, 0, 1, 1, 1, 1, 0, 1, 1, 0, 1, 1, 1, 0, 1,\n",
       "       0, 1, 0, 1, 0, 0, 1, 0, 1, 0, 1, 0, 0, 0, 1, 1, 0, 1, 1, 0, 0, 1,\n",
       "       1, 1, 0, 1, 1, 1, 1, 1, 1, 1, 1, 0, 0, 0, 0, 1, 0, 1, 1, 0, 0, 0,\n",
       "       1, 1, 1, 1, 0, 1, 1, 1, 1, 1, 1, 1, 1, 1, 0], dtype=int64)"
      ]
     },
     "execution_count": 61,
     "metadata": {},
     "output_type": "execute_result"
    }
   ],
   "source": [
    "random_pred = loaded_random.predict(features_test)\n",
    "random_pred"
   ]
  },
  {
   "cell_type": "code",
   "execution_count": 62,
   "metadata": {},
   "outputs": [
    {
     "name": "stdout",
     "output_type": "stream",
     "text": [
      "[[202   2]\n",
      " [ 76 131]]\n",
      "              precision    recall  f1-score   support\n",
      "\n",
      "           0       0.73      0.99      0.84       204\n",
      "           1       0.98      0.63      0.77       207\n",
      "\n",
      "    accuracy                           0.81       411\n",
      "   macro avg       0.86      0.81      0.80       411\n",
      "weighted avg       0.86      0.81      0.80       411\n",
      "\n"
     ]
    }
   ],
   "source": [
    "matrix = confusion_matrix(y_test, sgd_pred)\n",
    "print(matrix)\n",
    "report = classification_report(y_test, sgd_pred)\n",
    "print(report)"
   ]
  },
  {
   "cell_type": "code",
   "execution_count": null,
   "metadata": {},
   "outputs": [],
   "source": []
  },
  {
   "cell_type": "code",
   "execution_count": null,
   "metadata": {},
   "outputs": [],
   "source": []
  },
  {
   "cell_type": "code",
   "execution_count": null,
   "metadata": {},
   "outputs": [],
   "source": []
  },
  {
   "cell_type": "code",
   "execution_count": null,
   "metadata": {},
   "outputs": [],
   "source": []
  },
  {
   "cell_type": "code",
   "execution_count": null,
   "metadata": {},
   "outputs": [],
   "source": []
  },
  {
   "cell_type": "code",
   "execution_count": null,
   "metadata": {},
   "outputs": [],
   "source": []
  }
 ],
 "metadata": {
  "kernelspec": {
   "display_name": "Python 3",
   "language": "python",
   "name": "python3"
  },
  "language_info": {
   "codemirror_mode": {
    "name": "ipython",
    "version": 3
   },
   "file_extension": ".py",
   "mimetype": "text/x-python",
   "name": "python",
   "nbconvert_exporter": "python",
   "pygments_lexer": "ipython3",
   "version": "3.7.6"
  }
 },
 "nbformat": 4,
 "nbformat_minor": 4
}
