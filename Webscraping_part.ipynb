{
 "cells": [
  {
   "cell_type": "code",
   "execution_count": 1,
   "metadata": {
    "scrolled": true
   },
   "outputs": [],
   "source": [
    "import urllib\n",
    "from bs4 import BeautifulSoup, SoupStrainer\n",
    "from time import sleep\n",
    "import csv\n",
    "url_all = []\n",
    "with open('DATASET2738_before_webscraping.csv', newline='') as csvfile:\n",
    "    spamreader = csv.reader(csvfile, delimiter=',', quotechar='|')\n",
    "    for row in spamreader:\n",
    "        url_all.append(row)"
   ]
  },
  {
   "cell_type": "code",
   "execution_count": null,
   "metadata": {},
   "outputs": [
    {
     "name": "stdout",
     "output_type": "stream",
     "text": [
      "0\n",
      "https://www.hackster.io/123325/monitor-your-energy-bill-via-modbus-mkr-wifi-1010-and-rs485-814e5e\n",
      "Add the following snippet to your HTML:. Connect a Modbus energy meter to an Arduino and monitor power consumption via Home Assistant.. Read up about this project on . Connect a Modbus energy meter to an Arduino and monitor power consumption via Home Assistant.. If you really want to make your home smarter, you'll probably want start from your monthly bills (i.e. energy, gas, etc...). As some say, Good for Planet, The Wallet and The Bottom Line. Open source hardware is our  way to reach sustainability in the home environment! This idea brought us to build a simple and secure solution, easy to integrate with any home automation software since it exposes data over MQTT (in our case we will show you how to integrate it into Home Assistant).. In order to measure the electrical energy consumption, we chose to use the Finder Energy Meter, since it is designed for DIN rail use and fits perfectly in the main cabinet of our house. The cool thing about this product is that it has an RS485 Modbus interface, an industrial standard communication protocol which makes talking to an Arduino really easy. In fact, Arduino has released an official shield, the MKR485 and two libraries to decode the protocol. As the main board, we chose the Arduino MKR WiFi 1010, since it shares the MKR form factor and has WiFi connectivity. . Warning! Check your country regulations about dealing with your house electrical system and be extremely careful because it can be deadly! If you don't know how, call an electrician. The first step is to install the meter in your electrical cabinet. To ensure you are working in a safe environment, turn off the power from the electrical terminal ahead of your system and double check with the multimeter that there is no voltage between the terminals.. Then place the energy meter inside your cabinet and connect live and neutral wires from the main breaker to the input of the meter, remember to use the color convention (blue for neutral and brown/black/grey for live in EU). The output has to be connected to the rest of the system.. Done? It is time to screw in the RS485 connection! We will use twisted single pair cable with ground, typically used for phone lines. With this cable you can transmit over long distance (1.2 km). However we just use a cable long enough to exit the cabinet and place the arduino in an accessible place.. The RS485 interface names its terminals A, B and COM. . Since the MKR shield supports also Full Duplex, you'll see two other terminals, Y and Z. Here we are going to screw the other end of the cable, since we know from the datasheet that half duplex communication happens only on Y and Z terminals. The COM terminal has to be connected to ISOGND. Since we use an half duplex connection and since the cabling is peer-to-peer, we have to setup the switches on the MKR485 shield to match our setup: we set HALF (2 to OFF) and termination on Y-Z (3 to ON); the first one does not matter. The termination is a resistance connecting the two data terminals, for dampening interferences. . This is it. Now you can close the cabinet and focus on the software side!. Start your computer and open your IDE. You can use the Arduino IDE or Arduino Create Editor. The code is meeting the following requests: . Modbus is and open source protocol for industrial sensors and machines. To make Arduino talk Modbus, we are going to use the Arduino Modbus library. This library packs all the handlers and makes hooking up any Modbus device really fast. Since we are going to read registers, following the datasheet of the meter, we can find all the information we need like function codes, address of the register and size of the register in words. But to make it clearer, let us explain how Modbus works:. Modbus messages follow a simple structure: . 01  03  04  00  16  00  02  25  C7. 0x01is the Device Address . 0x03 is the Function Code that tells the device if we want to read or write data *in this case read holding registers. 0x04 for Byte Count00 16 - We send 4 bytes of register address (00 16) that tells the device what we want to read. 00 02- then the size of the register (00 02) in words (every word is 2 bytes long). Last 4 bytes are CRC code. This code is generated from a math function over previous bytes, this ensures the message has been received correctly.. In Arduino all this stuff is handled in the if condition:. In the else part we have the response handler. . Since this register is two words long, we have to join them with binary math. We read the words from the buffer and store them in an unsigned integer 16-bit long (2 bytes or a word), then we join them in a signed integer 32-bit long bitshifting the first word to the left and apply an OR over the second word. This way we retreive the current measurement in mA, dividing it by 1000 we have current in ampere.. This same process is adapted to everything we want to read.. The rest of the code is dedicated to handling MQTT and WiFi networking.. Adding the meter to Home Assistant is pretty straightforward.  Assuming you have a MQTT broker configured (Here is the guide), all you need to do is to add new definitions under the configuration.yaml file.. Here you have to put the name of the measurement, the MQTT topic to read and the measurement unit of the quantity. Save the file, check the configuration and reload Home Assistant, now the measurements will appear on the main page.. Home Assistant will take care of creating graphs and automate processes  triggered by your readings. This tutorial has finished, now it's up to you to add features and customize it for your own purposes!. \n",
      "1\n",
      "https://www.hackster.io/308655/iot-project-group-16-6f3cdf\n",
      "Add the following snippet to your HTML:. Remote Controlling a laser through the use of multiple argons.. Read up about this project on . Remote Controlling a laser through the use of multiple argons.. The first Argon is the argon with the rotary encoder on it. This encoder node is uses as a control that will publish a signal to the second argon telling it that it is allowed to turn on the power. This makes the button operational, and lights the on-board LED light up. This is done by simply turning the nob one click to left. This turn to the left will publish a signal to the second argon that it will be able to receive. Warning due to the sensitive nature of the encoder, do not turn more then one click or it might cause the second argon to not receive the published signal. Then to turn off or deactivate the second argon, turn the nob back to its original position by turning one click to the right.. The second argon acts as more of a moderator between the first and second argon. The second argon is unusable until it gets the signal published from the first argon when the encoder nob is turn to the left. The way that the second argon shows that it has received its signal from the first argon is the white LED light attached will light up. Once the light it bright white, it shows that the commanded was received and that the button attached to it is ready to be used. Hint the second argon might take a while to receive the signal from the first argon, this depends on the strength of the WiFi signal, so wait up to a minute before trying to fix the circuit. The purpose of the button is that once push it will publish the signal to the third argon to turn on the laser.. The third argon is the argon that controls the actual laser. Similar to the second argon, the third argon uses a led light to notify the user that it has received the published signal from the 1st two argons, this allows the user to know when the laser is turned on. Another function that shows the third argon has received the command signal from the second argon is that it will send a command back to the second argon to blink the second argon’s LED light. This is important because the laser does take almost complete darkness in order to see the laser from far away. The led and the laser will be on for about eight seconds per command sent. Warning do not overwhelm the third argon by pushing the button multiple times in succession, because if you do, the system will be overflowed with commands and the boards will cease publishing/ receiving messages to operate.. All this information about how many times the laser was activated, when the encoder was turned and what position it was turned to. And a timestamp for when the button was pushed is shown on our Thingspeak page. Here is the link and a photo on what to expect when you get there.. https://thingspeak.com/channels/911485. Below is  a demonstration video that will not only explain everything about each argon but also explain the code, schematics and also gives a test run of the project so that not only are you able to understand the background information but also gives you a  visual demonstration of how this project is suppose to work.. . . \n"
     ]
    },
    {
     "name": "stdout",
     "output_type": "stream",
     "text": [
      "2\n",
      "https://www.hackster.io/328082/ownbooth-wework-phone-booth-occupancy-using-kemet-sensor-2d0027\n",
      "Add the following snippet to your HTML:. Know before you go. Check before you trek. Get calling without stalling. See real-time phone booth occupancy from anywhere in the world.. Read up about this project on . Know before you go. Check before you trek. Get calling without stalling. See real-time phone booth occupancy from anywhere in the world.. Shared office spaces like conference rooms, microwaves, and even bathroom stalls can present resource contention problems that span from mild annoyance to downright messy. I have an office at WeWork in downtown Nashville, we are a remote team for Tektronix in Portland, Oregon. That means we spend a lot of time on Skype, phone, or some other voice/video tech. WeWork has banks of personal \"phone booths\" meant for a single person to take a call without disturbing others. This project is a prototype IoT occupancy sensor that shows whether phone booths are available for use before trekking across the building, finding out you need other arrangements, and showing up late to an important conference call.. You can see the actual final product on a real-time dashboard here: https://go.init.st/7y94ii3. The IoT occupancy sensor unit is made with a Kemet Pyroelectric Infrared Sensor connected to a Pi Zero W board inside a custom 3D printed enclosure. The phone booths have USB charging ports in a perfect spot to mount the device and run a short miniUSB power cable. The on-board software joins the WiFi network and runs a python script on power up. Data from the sensor streams to Initial State where we create and share an anywhere-accessible dashboard of the real-time occupancy status. We printed a QR code on the device so anyone can quickly find the dashboard with their phone.. The sensor gives 200ms pulses according to movement and temperature changes in its field of view. Measuring the waveform with an Oscilloscope gives you a good idea of the simplicity of the output. I am using a Tektronix 5-Series to do the measurement. This gives a better idea of how the software should work.. The module comes with a connector, but for quick prototyping you'll need to breakout the connector to something you can easily breadboard with and eventually solder for that protoype-y yet sturdy solution solution. The last thing I wanted to do is spend a lot of time trying to deal with tiny pads on the module, connected to tiny breakable wires during the software phase.  I combined the following items to create a durable connectivity solution. I soldered the connector to breakout board without even needing my glasses.. Connect the power pin of the sensor to 5V, Ground to Ground, and connect the output line to GPIO 0 of the pi Zero board.. The sensor has a straightforward output that can be read using a simple GPIO line (see the o-scope trace above). 200ms is a plenty-slow-enough signal to use loop-timed direct software sampling. No fancy protocols or hardware sampling needed. I just decided to make my main loop sample at 195ms. Sure it catches a level twice here and there, but you'll avoid getting sample-synched on the 200ms edge, which is certain to be one of those intermittent-impossible-debugging-rabbit-holes your mama told you about.. After some experimentation, the algorithm is pretty solid and fairly simple. You'll find that there are more pulses when movement is present (of course), but also 2 consecutive HIGH levels is especially representative of movement. I count both pulse and consecutives and give the consecutive pulses 15x the weight of a single pulse. Here is how it works. There are three counters that run inside the 195ms loop.. Ultimately, the counter \"motion_samples\" is streamed to our dashboard as a combined count of all the 200ms pulses and the consecutive pulses weighted by 15x. By streaming this raw number, we can use Real-Time Expressions in Initial State to determine \"Occupied\" or \"Available\" (discussed later in the article). That way we can remotely change the threshold without changing the code.. Here is the main loop code snippet. The full code is attached to this project.. This software is certainly still a prototype, but there are a number of things you can do to make your life easier, and make your code more resilient.. 1 - Learn how to connect your headless pi Zero W to wifi on boot -  https://core-electronics.com.au/tutorials/raspberry-pi-zerow-headless-wifi-setup.html. 2 - Go through the Pi Process Tutorial found here - https://github.com/initialstate/pi-process-dashboard/wiki/Part-1.-Initial-State. You will achieve the following:. Once you do the two items above. You can power cycle your device and it will:. Even a power outage will bring your device back up to a known state and start sending data automatically once power is restored.. This real magic of this project is that anyone can check on the status of the WeWork phones from anywhere. This is accomplished by streaming data to Initial State. Go to iot.app.initialstate.com and create a new account or log into your existing account.. Once you have an account you need to install the ISStreamer on your Raspberry pi. Repo and tutorial can be found here: https://github.com/initialstate/python_appender. Once ISStreamer is installed you will be able to import and stream with the simple interface shown below. See the Python implementation of this project in the attached code at the bottom.. Once you have some signals in an Initial State dashboard the world is your oyster. In this project:. CURRENT LIVE DASHBOARD - https://go.init.st/7y94ii3. If you remember, the Python script is sending that counter variable called \"motion_samples\" to the dashboard. We are not pre-calculating occupancy on the device so that we can experiment easily in different environments, lighting, and situations without changing the code. In Initial State we utilize a feature called Real-time Expressions, which is essentially in-line math you can write against any signal in your dashboard.. To change \"motion_samples\" count into the occupancy state we chose a threshold of 30 and wrote math on the incoming data to do two things. Here is what is looks like to in our dashboard resolving the raw data to an emoji icon.. Lastly, Let's talk about the enclosure that is custom printed to fit our boards and provide mounting options. See the final result with build steps in the image carousel below:. We started with a design by Geraldo Ramos posted on Thingiverse for a camera mount and pi zero W enclosure. We remixed the files to hold the KEMET sensor instead of the camera, and printed it using an Ender 5 3D Printer (https://www.amazon.com/Creality-Ender-Plus-3D-Printer/dp/B07XKZW9KX). All 3D files are attached to this project. . Our enclosure has two mounting options.. . . \n",
      "3\n",
      "https://www.hackster.io/329327/connecting-bbc-micro-bit-with-ms-azure-using-xinabox-xchips-c28932\n",
      "Add the following snippet to your HTML:. A simple tutorial to connect micro:bit to Azure in less than 10 mins without coding only with XinaBox. Read up about this project on . A simple tutorial to connect micro:bit to Azure in less than 10 mins without coding only with XinaBox. Ever wanted to build an IoT device, but finding coding difficult? With this project you will be able to build IoT devices sending sensor values without coding! We are bringing to you a new and innovative way to turn your micro:bit into an IoT device, easily programmed with MakeCode blocks, just drag and drop!. You want to connect to Wi-Fi just add the block:. It's that simple!. You can connect to some of the most popular IoT platforms with a single block.. AllThingsTalk,. Ubidots,. … and not mention Microsoft Azure!. You can connect to any IoT platform in general which supports MQTT broker,. In this project we will demonstrate how to connect and send BBC micro:bit temperature values to Microsoft Azure!. 1. Hardware Setup2. Setup microbit.makecode3. Setup MS Azure4. Block coding5. Result6. Summary. Follow the link to know more about connecting and setting up xChips for XK05 kit.. IMPORTANT NOTE:  Do not power the connection/circuit through micro:bit as it will not be able supply enough power to run the CW01 (WiFi is power hungry).. {\"temperature\":25}. . In this project we have demonstrated how to simply connect microbit with MS Azure using XinaBox xChips with easy drag and drop block coding. With XinaBox's wide variety of sensors and actuators you can create advanced AI projects maybe AI farming with just block coding!. \n"
     ]
    }
   ],
   "source": [
    "import requests\n",
    "import numpy as np\n",
    "import pandas as pd\n",
    "import bs4\n",
    "count=0\n",
    "\n",
    "df = pd.DataFrame({\"Address\":['sds'], \"Content\":['sd'], \"Label\":['sds']})\n",
    "\n",
    "for link in url_all:\n",
    "    print(count)\n",
    "    add = []\n",
    "    con = []\n",
    "    lab = []\n",
    "    te = \"\"\n",
    "    count+=1\n",
    "    print(link[0])\n",
    "    try:\n",
    "        #html=urllib.request.urlopen(urllib.request.Request(link[0], data=None, headers={'User-Agent': 'Mozilla/5.0 (Windows NT 6.1; Win64; x64; rv:47.0) Gecko/20100101 Firefox/47.0'} ) , timeout=30)\n",
    "        page = requests.get(link[0])\n",
    "        data = page.text\n",
    "        soup = BeautifulSoup(data)\n",
    "        m = soup.find_all(\"p\")\n",
    "        for item in m:\n",
    "            text = item.text\n",
    "            text.replace('\\n', ' ').replace('\\r', '')\n",
    "            te = te + (text) + '. '\n",
    "        print(te)\n",
    "        con.append(te)\n",
    "        \n",
    "        lab.append(link[1])\n",
    "        \n",
    "        df_ = pd.DataFrame({\"Address\":[link[0]], \"Content\":con, \"Label\":lab})\n",
    "        df = pd.DataFrame(pd.concat([df, df_]))\n",
    "        sleep(2)\n",
    "    except ConnectionError:\n",
    "        sleep(2)\n",
    "        print('inconnection Error')\n",
    "    pass"
   ]
  },
  {
   "cell_type": "code",
   "execution_count": null,
   "metadata": {
    "scrolled": true
   },
   "outputs": [],
   "source": [
    "df.index = list(range(count+1))\n",
    "df = df.drop(df.index[0])\n",
    "df.to_csv('Dataset_2738_after_webscraping.csv')"
   ]
  },
  {
   "cell_type": "code",
   "execution_count": null,
   "metadata": {},
   "outputs": [],
   "source": []
  },
  {
   "cell_type": "code",
   "execution_count": null,
   "metadata": {},
   "outputs": [],
   "source": []
  },
  {
   "cell_type": "code",
   "execution_count": null,
   "metadata": {},
   "outputs": [],
   "source": []
  }
 ],
 "metadata": {
  "kernelspec": {
   "display_name": "Python 3",
   "language": "python",
   "name": "python3"
  },
  "language_info": {
   "codemirror_mode": {
    "name": "ipython",
    "version": 3
   },
   "file_extension": ".py",
   "mimetype": "text/x-python",
   "name": "python",
   "nbconvert_exporter": "python",
   "pygments_lexer": "ipython3",
   "version": "3.7.6"
  }
 },
 "nbformat": 4,
 "nbformat_minor": 4
}
